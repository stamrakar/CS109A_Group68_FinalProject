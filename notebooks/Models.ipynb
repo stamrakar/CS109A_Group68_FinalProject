{
 "cells": [
  {
   "cell_type": "markdown",
   "metadata": {
    "colab_type": "text",
    "id": "DPj3fMCCsa8G"
   },
   "source": [
    "<a id ='TOC'></a>\n",
    "### Table of Contents\n",
    "4. [Models](#Models) <br/>\n",
    "    4.1 [Baseline Model - Simple Linear Regression](#Baseline-Model) <br/>\n",
    "    4.2 [Linear Regression with Ridge](#Linear-Regression-with-Ridge) <br/>\n",
    "    4.3 [Lasso](#Lasso) <br/>\n",
    "    4.4 [Lasso and Ridge Coefficients Comparison](#Lasso-and-Ridge-Coefficients-Comparison) <br/>\n",
    "    4.5 [Logistic Regression](#Logistic-Regression) <br/>\n",
    "    4.6 [Logistic Regression with cross validation](#Logistic-Regression-with-cross-validation) <br/>\n",
    "    4.7 [Logistic Regression with polynomial degree 3](#Logistic-Regression-with-polynomial-degree-3) <br/>\n",
    "    4.8 [KNN](#KNN) <br/>\n",
    "    4.9 [Decision tree](#Decision-tree) <br/>\n",
    "    4.10 [Random Forest](#Random-Forest) <br/>\n",
    "    4.11 [Boosting - AdaBoost Classifier](#Boosting-AdaBoost-Classifier) <br/>\n",
    "    4.12 [SVM](#SVM) <br/>\n",
    "    4.13 [K-Means Clustering](#KMeans-Clustering) <br/>\n",
    "    4.14 [Validate Botometer Results](#Validate-Botometer-Results) <br/>\n",
    "    4.15 [Sentence Embeddings + Clutering + Neural Networks](#Sentence-Embeddings-Clutering-Neural-Networks)<br/>"
   ]
  },
  {
   "cell_type": "markdown",
   "metadata": {
    "colab_type": "text",
    "id": "HAZS81cJHqAn"
   },
   "source": [
    "___"
   ]
  },
  {
   "cell_type": "code",
   "execution_count": 0,
   "metadata": {
    "colab": {},
    "colab_type": "code",
    "id": "KN_jXKJ0kyaz",
    "outputId": "5a464095-6370-4174-d375-8bbb7fe43fe5"
   },
   "outputs": [
    {
     "name": "stderr",
     "output_type": "stream",
     "text": [
      "Using TensorFlow backend.\n",
      "/anaconda3/lib/python3.6/site-packages/seaborn/apionly.py:6: UserWarning: As seaborn no longer sets a default style on import, the seaborn.apionly module is deprecated. It will be removed in a future version.\n",
      "  warnings.warn(msg, UserWarning)\n"
     ]
    }
   ],
   "source": [
    "#@title \n",
    "# Import Libraries, Global Options and Styles\n",
    "import requests\n",
    "from IPython.core.display import HTML\n",
    "styles = requests.get(\n",
    "    \"https://raw.githubusercontent.com/Harvard-IACS/2018-CS109A/master/content/styles/cs109.css\").text\n",
    "HTML(styles)\n",
    "%matplotlib inline\n",
    "\n",
    "#import libraries\n",
    "import warnings\n",
    "warnings.filterwarnings('ignore')\n",
    "\n",
    "import tweepy\n",
    "import random\n",
    "random.seed(112358)\n",
    "\n",
    "%matplotlib inline\n",
    "import numpy as np\n",
    "import scipy as sp\n",
    "import json as json\n",
    "import pandas as pd\n",
    "import jsonpickle\n",
    "import time\n",
    "\n",
    "\n",
    "from sklearn.model_selection import cross_val_score\n",
    "from sklearn.model_selection import train_test_split\n",
    "from sklearn.utils import resample\n",
    "from sklearn.utils import shuffle\n",
    "from sklearn.tree import DecisionTreeClassifier\n",
    "from sklearn.ensemble import RandomForestClassifier\n",
    "from sklearn.ensemble import AdaBoostClassifier\n",
    "from sklearn.linear_model import LogisticRegressionCV\n",
    "from sklearn.linear_model import LogisticRegression\n",
    "from sklearn.model_selection import train_test_split\n",
    "from sklearn.metrics import accuracy_score\n",
    "from sklearn.metrics import r2_score\n",
    "from sklearn.neighbors import KNeighborsClassifier\n",
    "from sklearn.preprocessing import PolynomialFeatures\n",
    "from pandas.plotting import scatter_matrix\n",
    "from sklearn.linear_model import Ridge\n",
    "from sklearn.linear_model import Lasso\n",
    "from sklearn.linear_model import RidgeCV\n",
    "from sklearn.linear_model import LassoCV\n",
    "from sklearn.feature_extraction.text import CountVectorizer\n",
    "from sklearn.preprocessing import LabelEncoder\n",
    "\n",
    "import scipy.sparse as ss\n",
    "import os\n",
    "import tensorflow as tf\n",
    "import tensorflow_hub as hub\n",
    "\n",
    "from tensorflow.keras.models import load_model\n",
    "from tensorflow.keras.models import Sequential\n",
    "from tensorflow.keras.layers import Dense,Dropout\n",
    "from keras.utils import np_utils\n",
    "\n",
    "import statsmodels.api as sm\n",
    "from statsmodels.api import OLS\n",
    "\n",
    "import matplotlib as mpl\n",
    "import matplotlib.cm as cm\n",
    "import matplotlib.pyplot as plt\n",
    "\n",
    "import pandas as pd\n",
    "pd.set_option('display.width', 1500)\n",
    "pd.set_option('display.max_columns', 100)\n",
    "pd.set_option('display.notebook_repr_html', True)\n",
    "\n",
    "import seaborn.apionly as sns\n",
    "sns.set(style=\"darkgrid\")\n",
    "sns.set_context(\"poster\")"
   ]
  },
  {
   "cell_type": "markdown",
   "metadata": {
    "colab_type": "text",
    "id": "eBjGT7Sbsa-b"
   },
   "source": [
    "[Back to TOC](#TOC) <br/>\n",
    "<a id ='Models'></a>\n",
    "### 4 - Models\n",
    "\n",
    "We splited train / test dataset by 0.25 and stratify by class_boto to ensure equal presentation of bots account in both datasets. The baseline accuracy of training dataset was 91.73%, the baseline accuracy for test set was 91.77%. Both of which are quite high. <br/>\n",
    "<mark> By testing several model, we were able to achieve an accuracy up to  </mark> "
   ]
  },
  {
   "cell_type": "code",
   "execution_count": 0,
   "metadata": {
    "colab": {},
    "colab_type": "code",
    "id": "DahMsnsykya4"
   },
   "outputs": [],
   "source": [
    "# read the data\n",
    "users_df = pd.read_json('users_final_std.json')"
   ]
  },
  {
   "cell_type": "code",
   "execution_count": 0,
   "metadata": {
    "colab": {},
    "colab_type": "code",
    "id": "gQ1F4yT4kya8"
   },
   "outputs": [],
   "source": [
    "# Train/Test split \n",
    "'''\n",
    "change as needed, do we want test_size of .25?\n",
    "'''\n",
    "train_df, test_df = train_test_split(users_df, test_size=.25, \n",
    "                                                       stratify=users_df.class_boto, random_state=99)"
   ]
  },
  {
   "cell_type": "code",
   "execution_count": 0,
   "metadata": {
    "colab": {},
    "colab_type": "code",
    "id": "WbBymSYAkya-"
   },
   "outputs": [],
   "source": [
    "with open('col_pred_numerical.txt', 'r') as fp:\n",
    "    col_pred_numerical = fp.read().split(',')\n",
    "with open('col_response.txt', 'r') as fp:\n",
    "    col_response = fp.read().split(',')\n",
    "with open('col_pred_text.txt', 'r') as fp:\n",
    "    col_pred_text = fp.read().split(',')\n",
    "with open('col_ref.txt', 'r') as fp:\n",
    "    col_ref = fp.read().split(',')"
   ]
  },
  {
   "cell_type": "code",
   "execution_count": 0,
   "metadata": {
    "colab": {},
    "colab_type": "code",
    "id": "OOYf2YcxkybB"
   },
   "outputs": [],
   "source": [
    "# write a function to split the data\n",
    "def split_data(df):\n",
    "    # num_pred: standardized numerical predictors - what we will be using for most of the models\n",
    "    # text_pred: text features that are associated with the tweets - only useful for NLP\n",
    "    # response: response - manually verified classification. 1=bot; 0=non-bot\n",
    "    # ids: 'id'\n",
    "    # boto: botometer values\n",
    "    num_pred, text_pred, response = df[col_pred_numerical], df[col_pred_text], df['class_boto']\n",
    "    ids, screen_name = df['id'], df['screen_name']\n",
    "    return num_pred, text_pred, response, ids, screen_name"
   ]
  },
  {
   "cell_type": "code",
   "execution_count": 0,
   "metadata": {
    "colab": {},
    "colab_type": "code",
    "id": "0dyNMVarkybF"
   },
   "outputs": [],
   "source": [
    "# get the predictors, responses, and other features from train and test set\n",
    "xtrain, xtrain_text, ytrain, train_id, train_sn = split_data(train_df)\n",
    "xtest, xtest_text, ytest, test_id, test_sn = split_data(test_df)"
   ]
  },
  {
   "cell_type": "code",
   "execution_count": 0,
   "metadata": {
    "colab": {},
    "colab_type": "code",
    "id": "XL5srAWtkybH"
   },
   "outputs": [],
   "source": [
    "# save to json\n",
    "f_list_names = ['train_df', 'test_df', 'xtrain', 'xtrain_text', 'ytrain', 'train_id', 'train_sn', 'xtest', 'xtest_text', 'ytest', 'test_id', 'test_sn']\n",
    "f_list = [train_df, test_df, xtrain, xtrain_text, ytrain, train_id, train_sn, xtest, xtest_text, ytest, test_id, test_sn]\n",
    "for f_name, f in zip(f_list_names, f_list):\n",
    "    f.to_json(f_name + '.json')"
   ]
  },
  {
   "cell_type": "code",
   "execution_count": 0,
   "metadata": {
    "colab": {},
    "colab_type": "code",
    "id": "QGHTeXwLkybL"
   },
   "outputs": [],
   "source": [
    "# create a dictionary to store all our models\n",
    "models_list = {}\n",
    "acc ={}"
   ]
  },
  {
   "cell_type": "code",
   "execution_count": 0,
   "metadata": {
    "colab": {},
    "colab_type": "code",
    "id": "HXM9u8IHkybP",
    "outputId": "0a820392-ee5a-48a6-9f6c-cae1c90533a2"
   },
   "outputs": [
    {
     "name": "stdout",
     "output_type": "stream",
     "text": [
      "the baseline accuracy for training set is 91.73%, for test set is 91.77%.\n"
     ]
    }
   ],
   "source": [
    "# take a quick look at the accuracy if we just choose to classifying everything as users\n",
    "baseline_train_acc = float(1-sum(ytrain)/len(ytrain))\n",
    "baseline_test_acc = float(1-sum(ytest)/len(ytest))\n",
    "print('the baseline accuracy for training set is {:.2f}%, for test set is {:.2f}%.'.format(baseline_train_acc*100, \n",
    "                                                                                           baseline_test_acc*100))"
   ]
  },
  {
   "cell_type": "code",
   "execution_count": 0,
   "metadata": {
    "colab": {},
    "colab_type": "code",
    "id": "kht5CTQgkybR"
   },
   "outputs": [],
   "source": [
    "# save baseline acc to model list\n",
    "acc['bl'] = (baseline_train_acc, baseline_test_acc)"
   ]
  },
  {
   "cell_type": "markdown",
   "metadata": {
    "colab_type": "text",
    "id": "EIaFu4qNsa-b"
   },
   "source": [
    "[Back to TOC](#TOC) <br/>\n",
    "<a id ='Baseline-Model'></a>\n",
    "#### 4.1 - Baseline Model - Simple Linear Regression\n",
    "\n",
    "Although this is a classification problem that people normally won't use linear regression, we thought we could try with a threshold of 0.5 and use it as a baseline model.  <br/>\n",
    "\n",
    "Our Test score is around 91.39% on the test data which is not bad for a Base Model at the first glance; as our possibilies are either Bot or No-Bot. However, it is actually lower than our baseline accuracy on test set, which was 91.77%. Therefore, OLS, even we tried to use threshold, it is not performing, we need to improve the model."
   ]
  },
  {
   "cell_type": "code",
   "execution_count": 0,
   "metadata": {
    "colab": {},
    "colab_type": "code",
    "id": "DApi--eBkybU"
   },
   "outputs": [],
   "source": [
    "# multiple linear regression(no poly)on numerical predictors\n",
    "X_train = sm.add_constant(xtrain)\n",
    "X_test = sm.add_constant(xtest)\n",
    "y_train = ytrain.values.reshape(-1,1)\n",
    "y_test = ytest.values.reshape(-1,1)"
   ]
  },
  {
   "cell_type": "code",
   "execution_count": 0,
   "metadata": {
    "colab": {},
    "colab_type": "code",
    "id": "u0jB9gmdkybV",
    "outputId": "caa5bc27-3751-4404-b906-310ad640c2ee",
    "scrolled": false
   },
   "outputs": [
    {
     "data": {
      "text/html": [
       "<table class=\"simpletable\">\n",
       "<caption>OLS Regression Results</caption>\n",
       "<tr>\n",
       "  <th>Dep. Variable:</th>            <td>y</td>        <th>  R-squared:         </th> <td>   0.217</td> \n",
       "</tr>\n",
       "<tr>\n",
       "  <th>Model:</th>                   <td>OLS</td>       <th>  Adj. R-squared:    </th> <td>   0.212</td> \n",
       "</tr>\n",
       "<tr>\n",
       "  <th>Method:</th>             <td>Least Squares</td>  <th>  F-statistic:       </th> <td>   45.83</td> \n",
       "</tr>\n",
       "<tr>\n",
       "  <th>Date:</th>             <td>Wed, 12 Dec 2018</td> <th>  Prob (F-statistic):</th> <td>3.40e-151</td>\n",
       "</tr>\n",
       "<tr>\n",
       "  <th>Time:</th>                 <td>21:45:50</td>     <th>  Log-Likelihood:    </th> <td> -23.162</td> \n",
       "</tr>\n",
       "<tr>\n",
       "  <th>No. Observations:</th>      <td>  3169</td>      <th>  AIC:               </th> <td>   86.32</td> \n",
       "</tr>\n",
       "<tr>\n",
       "  <th>Df Residuals:</th>          <td>  3149</td>      <th>  BIC:               </th> <td>   207.5</td> \n",
       "</tr>\n",
       "<tr>\n",
       "  <th>Df Model:</th>              <td>    19</td>      <th>                     </th>     <td> </td>    \n",
       "</tr>\n",
       "<tr>\n",
       "  <th>Covariance Type:</th>      <td>nonrobust</td>    <th>                     </th>     <td> </td>    \n",
       "</tr>\n",
       "</table>\n",
       "<table class=\"simpletable\">\n",
       "<tr>\n",
       "            <td></td>               <th>coef</th>     <th>std err</th>      <th>t</th>      <th>P>|t|</th>  <th>[0.025</th>    <th>0.975]</th>  \n",
       "</tr>\n",
       "<tr>\n",
       "  <th>const</th>                 <td>    0.0845</td> <td>    0.004</td> <td>   19.328</td> <td> 0.000</td> <td>    0.076</td> <td>    0.093</td>\n",
       "</tr>\n",
       "<tr>\n",
       "  <th>user_favourites_count</th> <td>   -0.0111</td> <td>    0.004</td> <td>   -2.478</td> <td> 0.013</td> <td>   -0.020</td> <td>   -0.002</td>\n",
       "</tr>\n",
       "<tr>\n",
       "  <th>user_followers_count</th>  <td>   -0.0473</td> <td>    0.011</td> <td>   -4.433</td> <td> 0.000</td> <td>   -0.068</td> <td>   -0.026</td>\n",
       "</tr>\n",
       "<tr>\n",
       "  <th>user_friends_count</th>    <td>    0.0281</td> <td>    0.005</td> <td>    5.138</td> <td> 0.000</td> <td>    0.017</td> <td>    0.039</td>\n",
       "</tr>\n",
       "<tr>\n",
       "  <th>user_listed_count</th>     <td>    0.0332</td> <td>    0.009</td> <td>    3.816</td> <td> 0.000</td> <td>    0.016</td> <td>    0.050</td>\n",
       "</tr>\n",
       "<tr>\n",
       "  <th>user_statuses_count</th>   <td>   -0.0052</td> <td>    0.004</td> <td>   -1.218</td> <td> 0.223</td> <td>   -0.014</td> <td>    0.003</td>\n",
       "</tr>\n",
       "<tr>\n",
       "  <th>tweet_time_mean</th>       <td>    0.1159</td> <td>    0.039</td> <td>    2.964</td> <td> 0.003</td> <td>    0.039</td> <td>    0.193</td>\n",
       "</tr>\n",
       "<tr>\n",
       "  <th>tweet_time_std</th>        <td>   -0.0043</td> <td>    0.029</td> <td>   -0.148</td> <td> 0.883</td> <td>   -0.061</td> <td>    0.052</td>\n",
       "</tr>\n",
       "<tr>\n",
       "  <th>tweet_time_min</th>        <td>   -0.0337</td> <td>    0.008</td> <td>   -4.427</td> <td> 0.000</td> <td>   -0.049</td> <td>   -0.019</td>\n",
       "</tr>\n",
       "<tr>\n",
       "  <th>tweet_time_max</th>        <td>   -0.0053</td> <td>    0.015</td> <td>   -0.360</td> <td> 0.719</td> <td>   -0.034</td> <td>    0.023</td>\n",
       "</tr>\n",
       "<tr>\n",
       "  <th>user_description_len</th>  <td>   -0.0011</td> <td>    0.005</td> <td>   -0.234</td> <td> 0.815</td> <td>   -0.010</td> <td>    0.008</td>\n",
       "</tr>\n",
       "<tr>\n",
       "  <th>account_age</th>           <td>   -0.0367</td> <td>    0.004</td> <td>   -8.171</td> <td> 0.000</td> <td>   -0.046</td> <td>   -0.028</td>\n",
       "</tr>\n",
       "<tr>\n",
       "  <th>tweet_len_mean</th>        <td>    0.0171</td> <td>    0.007</td> <td>    2.621</td> <td> 0.009</td> <td>    0.004</td> <td>    0.030</td>\n",
       "</tr>\n",
       "<tr>\n",
       "  <th>tweet_len_std</th>         <td>   -0.0579</td> <td>    0.006</td> <td>   -9.066</td> <td> 0.000</td> <td>   -0.070</td> <td>   -0.045</td>\n",
       "</tr>\n",
       "<tr>\n",
       "  <th>tweet_word_mean</th>       <td>   -0.0577</td> <td>    0.008</td> <td>   -7.453</td> <td> 0.000</td> <td>   -0.073</td> <td>   -0.043</td>\n",
       "</tr>\n",
       "<tr>\n",
       "  <th>tweet_word_std</th>        <td>    0.0065</td> <td>    0.007</td> <td>    0.871</td> <td> 0.384</td> <td>   -0.008</td> <td>    0.021</td>\n",
       "</tr>\n",
       "<tr>\n",
       "  <th>retweet_len_mean</th>      <td>    0.0167</td> <td>    0.008</td> <td>    2.003</td> <td> 0.045</td> <td>    0.000</td> <td>    0.033</td>\n",
       "</tr>\n",
       "<tr>\n",
       "  <th>retweet_len_std</th>       <td>    0.0007</td> <td>    0.007</td> <td>    0.107</td> <td> 0.915</td> <td>   -0.013</td> <td>    0.014</td>\n",
       "</tr>\n",
       "<tr>\n",
       "  <th>retweet_word_mean</th>     <td>   -0.1547</td> <td>    0.016</td> <td>   -9.530</td> <td> 0.000</td> <td>   -0.187</td> <td>   -0.123</td>\n",
       "</tr>\n",
       "<tr>\n",
       "  <th>retweet_word_std</th>      <td>    0.0783</td> <td>    0.015</td> <td>    5.145</td> <td> 0.000</td> <td>    0.048</td> <td>    0.108</td>\n",
       "</tr>\n",
       "</table>\n",
       "<table class=\"simpletable\">\n",
       "<tr>\n",
       "  <th>Omnibus:</th>       <td>1418.815</td> <th>  Durbin-Watson:     </th> <td>   1.975</td>\n",
       "</tr>\n",
       "<tr>\n",
       "  <th>Prob(Omnibus):</th>  <td> 0.000</td>  <th>  Jarque-Bera (JB):  </th> <td>6760.888</td>\n",
       "</tr>\n",
       "<tr>\n",
       "  <th>Skew:</th>           <td> 2.163</td>  <th>  Prob(JB):          </th> <td>    0.00</td>\n",
       "</tr>\n",
       "<tr>\n",
       "  <th>Kurtosis:</th>       <td> 8.699</td>  <th>  Cond. No.          </th> <td>    21.2</td>\n",
       "</tr>\n",
       "</table><br/><br/>Warnings:<br/>[1] Standard Errors assume that the covariance matrix of the errors is correctly specified."
      ],
      "text/plain": [
       "<class 'statsmodels.iolib.summary.Summary'>\n",
       "\"\"\"\n",
       "                            OLS Regression Results                            \n",
       "==============================================================================\n",
       "Dep. Variable:                      y   R-squared:                       0.217\n",
       "Model:                            OLS   Adj. R-squared:                  0.212\n",
       "Method:                 Least Squares   F-statistic:                     45.83\n",
       "Date:                Wed, 12 Dec 2018   Prob (F-statistic):          3.40e-151\n",
       "Time:                        21:45:50   Log-Likelihood:                -23.162\n",
       "No. Observations:                3169   AIC:                             86.32\n",
       "Df Residuals:                    3149   BIC:                             207.5\n",
       "Df Model:                          19                                         \n",
       "Covariance Type:            nonrobust                                         \n",
       "=========================================================================================\n",
       "                            coef    std err          t      P>|t|      [0.025      0.975]\n",
       "-----------------------------------------------------------------------------------------\n",
       "const                     0.0845      0.004     19.328      0.000       0.076       0.093\n",
       "user_favourites_count    -0.0111      0.004     -2.478      0.013      -0.020      -0.002\n",
       "user_followers_count     -0.0473      0.011     -4.433      0.000      -0.068      -0.026\n",
       "user_friends_count        0.0281      0.005      5.138      0.000       0.017       0.039\n",
       "user_listed_count         0.0332      0.009      3.816      0.000       0.016       0.050\n",
       "user_statuses_count      -0.0052      0.004     -1.218      0.223      -0.014       0.003\n",
       "tweet_time_mean           0.1159      0.039      2.964      0.003       0.039       0.193\n",
       "tweet_time_std           -0.0043      0.029     -0.148      0.883      -0.061       0.052\n",
       "tweet_time_min           -0.0337      0.008     -4.427      0.000      -0.049      -0.019\n",
       "tweet_time_max           -0.0053      0.015     -0.360      0.719      -0.034       0.023\n",
       "user_description_len     -0.0011      0.005     -0.234      0.815      -0.010       0.008\n",
       "account_age              -0.0367      0.004     -8.171      0.000      -0.046      -0.028\n",
       "tweet_len_mean            0.0171      0.007      2.621      0.009       0.004       0.030\n",
       "tweet_len_std            -0.0579      0.006     -9.066      0.000      -0.070      -0.045\n",
       "tweet_word_mean          -0.0577      0.008     -7.453      0.000      -0.073      -0.043\n",
       "tweet_word_std            0.0065      0.007      0.871      0.384      -0.008       0.021\n",
       "retweet_len_mean          0.0167      0.008      2.003      0.045       0.000       0.033\n",
       "retweet_len_std           0.0007      0.007      0.107      0.915      -0.013       0.014\n",
       "retweet_word_mean        -0.1547      0.016     -9.530      0.000      -0.187      -0.123\n",
       "retweet_word_std          0.0783      0.015      5.145      0.000       0.048       0.108\n",
       "==============================================================================\n",
       "Omnibus:                     1418.815   Durbin-Watson:                   1.975\n",
       "Prob(Omnibus):                  0.000   Jarque-Bera (JB):             6760.888\n",
       "Skew:                           2.163   Prob(JB):                         0.00\n",
       "Kurtosis:                       8.699   Cond. No.                         21.2\n",
       "==============================================================================\n",
       "\n",
       "Warnings:\n",
       "[1] Standard Errors assume that the covariance matrix of the errors is correctly specified.\n",
       "\"\"\""
      ]
     },
     "execution_count": 12,
     "metadata": {
      "tags": []
     },
     "output_type": "execute_result"
    }
   ],
   "source": [
    "# Fit and summarize OLS model\n",
    "model = OLS(y_train, X_train)\n",
    "results = model.fit()\n",
    "\n",
    "results.summary()"
   ]
  },
  {
   "cell_type": "code",
   "execution_count": 0,
   "metadata": {
    "colab": {},
    "colab_type": "code",
    "id": "ROXOeiVJkybZ",
    "outputId": "e4f7659d-b4d9-4f1c-f67a-324a459ed594"
   },
   "outputs": [
    {
     "name": "stdout",
     "output_type": "stream",
     "text": [
      "Train R^2 = 0.21662050202218985\n",
      "Test R^2 = -0.2992911496733639\n"
     ]
    }
   ],
   "source": [
    "y_hat_train = results.predict()\n",
    "y_hat_test = results.predict(exog=X_test)\n",
    "\n",
    "# get Train & Test R^2\n",
    "print('Train R^2 = {}'.format(results.rsquared))\n",
    "print('Test R^2 = {}'.format(r2_score(test_df['class_boto'], y_hat_test)))"
   ]
  },
  {
   "cell_type": "code",
   "execution_count": 0,
   "metadata": {
    "colab": {},
    "colab_type": "code",
    "id": "5_4gyGydkybb",
    "outputId": "b993b972-82e7-468a-d569-7e863ef0e3f8"
   },
   "outputs": [
    {
     "name": "stdout",
     "output_type": "stream",
     "text": [
      "Training accuracy is 91.86%\n",
      "Test accuracy is 91.39 %\n"
     ]
    }
   ],
   "source": [
    "# accuracy score\n",
    "ols_train_acc = accuracy_score(y_train, results.predict(X_train).round().clip(0, 1))\n",
    "ols_test_acc = accuracy_score(y_test, results.predict(X_test).round().clip(0, 1))\n",
    "print(\"Training accuracy is {:.4}%\".format(ols_train_acc*100))\n",
    "print(\"Test accuracy is {:.4} %\".format(ols_test_acc*100))"
   ]
  },
  {
   "cell_type": "code",
   "execution_count": 0,
   "metadata": {
    "colab": {},
    "colab_type": "code",
    "id": "uqIkwGGNkybf"
   },
   "outputs": [],
   "source": [
    "# save model to the list\n",
    "models_list[\"ols\"] = results\n",
    "acc['ols'] = (ols_train_acc, ols_test_acc)"
   ]
  },
  {
   "cell_type": "code",
   "execution_count": 0,
   "metadata": {
    "colab": {},
    "colab_type": "code",
    "id": "5Zth6u5ikybh"
   },
   "outputs": [],
   "source": [
    "# pickle ols\n",
    "import pickle\n",
    "\n",
    "filename = 'ols.sav'\n",
    "pickle.dump(results, open(filename, 'wb'))"
   ]
  },
  {
   "cell_type": "code",
   "execution_count": 0,
   "metadata": {
    "colab": {},
    "colab_type": "code",
    "id": "k5w5lxnukybj"
   },
   "outputs": [],
   "source": [
    "#loaded_model = pickle.load(open(filename,'rb'))"
   ]
  },
  {
   "cell_type": "markdown",
   "metadata": {
    "colab_type": "text",
    "id": "VsV0pPTdkybl"
   },
   "source": [
    "[Back to TOC](#TOC) <br/>\n",
    "<a id ='Linear-Regression-with-Ridge'></a>\n",
    "#### 4.2 - Linear Regression with Ridge\n",
    "\n",
    "Although in the simple linear model, the test score is comparable to training score and there was no sign of overfitting, we still want to try Ridge to see if we could reduce any potential overfitting. <br/>\n",
    "\n",
    "With ridge selection, we received a test accuracy of 91.96%, which is slightly improved from 91.39% (OLS), which implies that the OLS model does not have overfitting. However, it is still about the same / lower than baseline accuracy."
   ]
  },
  {
   "cell_type": "code",
   "execution_count": 0,
   "metadata": {
    "colab": {},
    "colab_type": "code",
    "id": "gEzabCPlkybm"
   },
   "outputs": [],
   "source": [
    "alphas = np.array([.01, .05, .1, .5, 1, 5, 10, 50, 100])\n",
    "fitted_ridge = RidgeCV(alphas=alphas, cv=5).fit(X_train, y_train)"
   ]
  },
  {
   "cell_type": "code",
   "execution_count": 0,
   "metadata": {
    "colab": {},
    "colab_type": "code",
    "id": "J0B6pIWJkybo",
    "outputId": "1e46b014-3db9-4658-f61a-dcce8799e1ee"
   },
   "outputs": [
    {
     "name": "stdout",
     "output_type": "stream",
     "text": [
      "Training accuracy is 91.92%\n",
      "Test accuracy is 91.96 %\n"
     ]
    }
   ],
   "source": [
    "# accuracy score\n",
    "ridge_train_acc = accuracy_score(y_train, fitted_ridge.predict(X_train).round().clip(0, 1))\n",
    "ridge_test_acc = accuracy_score(y_test, fitted_ridge.predict(X_test).round().clip(0, 1))\n",
    "print(\"Training accuracy is {:.4}%\".format(ridge_train_acc*100))\n",
    "print(\"Test accuracy is {:.4} %\".format(ridge_test_acc*100))"
   ]
  },
  {
   "cell_type": "code",
   "execution_count": 0,
   "metadata": {
    "colab": {},
    "colab_type": "code",
    "id": "cZp6w8uCkybr"
   },
   "outputs": [],
   "source": [
    "# save model to the list\n",
    "models_list[\"ridge\"] = fitted_ridge\n",
    "filename = 'ridge.sav'\n",
    "pickle.dump(fitted_ridge, open(filename, 'wb'))\n",
    "acc['ridge'] = (ridge_train_acc, ridge_test_acc)"
   ]
  },
  {
   "cell_type": "markdown",
   "metadata": {
    "colab_type": "text",
    "id": "e_9MHdNskybt"
   },
   "source": [
    "[Back to TOC](#TOC) <br/>\n",
    "<a id ='Lasso'></a>\n",
    "#### 4.3 - Lasso\n",
    "We also want to try feature reductions with Lasso and see if the model will perform better by dropping less important features. The lasso model received an accuracy of 91.77%, which again improves from 91.14% but not very significant, and it is just slightly higher than baseline accuracy. However, Lasso may not have significant improvement on test accuracy but lead to differnet coefficients. We want to examine that."
   ]
  },
  {
   "cell_type": "code",
   "execution_count": 0,
   "metadata": {
    "colab": {},
    "colab_type": "code",
    "id": "ziatfVkokybu",
    "outputId": "f55efba8-369f-4a2d-a5e6-782d8fd5eae4"
   },
   "outputs": [
    {
     "name": "stderr",
     "output_type": "stream",
     "text": [
      "/anaconda3/lib/python3.6/site-packages/sklearn/linear_model/coordinate_descent.py:1094: DataConversionWarning: A column-vector y was passed when a 1d array was expected. Please change the shape of y to (n_samples, ), for example using ravel().\n",
      "  y = column_or_1d(y, warn=True)\n"
     ]
    }
   ],
   "source": [
    "fitted_lasso = LassoCV(alphas=alphas, max_iter=100000, cv=5).fit(X_train, y_train)"
   ]
  },
  {
   "cell_type": "code",
   "execution_count": 0,
   "metadata": {
    "colab": {},
    "colab_type": "code",
    "id": "dknOWgb-kybw",
    "outputId": "f195c804-71ca-4603-83cc-bbb7ee8c8ad1"
   },
   "outputs": [
    {
     "name": "stdout",
     "output_type": "stream",
     "text": [
      "Training accuracy is 91.8%\n",
      "Test accuracy is 91.77 %\n"
     ]
    }
   ],
   "source": [
    "# accuracy score\n",
    "lasso_train_acc = accuracy_score(y_train, fitted_lasso.predict(X_train).round().clip(0, 1))\n",
    "lasso_test_acc = accuracy_score(y_test, fitted_lasso.predict(X_test).round().clip(0, 1))\n",
    "print(\"Training accuracy is {:.4}%\".format(lasso_train_acc*100))\n",
    "print(\"Test accuracy is {:.4} %\".format(lasso_test_acc*100))"
   ]
  },
  {
   "cell_type": "code",
   "execution_count": 0,
   "metadata": {
    "colab": {},
    "colab_type": "code",
    "id": "tf77pYlzkyb2"
   },
   "outputs": [],
   "source": [
    "# save model to the list\n",
    "models_list[\"lasso\"] = fitted_lasso\n",
    "filename = 'lasso.sav'\n",
    "pickle.dump(fitted_lasso, open(filename, 'wb'))\n",
    "acc['lasso']=(lasso_train_acc, lasso_test_acc)"
   ]
  },
  {
   "cell_type": "markdown",
   "metadata": {
    "colab_type": "text",
    "id": "bx4VQlNykyb4"
   },
   "source": [
    "[Back to TOC](#TOC) <br/>\n",
    "<a id ='Lasso-and-Ridge-Coefficients-Comparison'></a>\n",
    "#### 4.4 -  Lasso and Ridge Coefficients Comparison\n",
    "We want to see how lasso and ridge results in different coefficients. As expected, Lasso greatly reduced the number of non-zero coefficients."
   ]
  },
  {
   "cell_type": "code",
   "execution_count": 0,
   "metadata": {
    "colab": {},
    "colab_type": "code",
    "id": "PPYKjISzkyb4",
    "outputId": "e3752c42-8ea2-447f-a8fc-006b37bd1497"
   },
   "outputs": [
    {
     "name": "stdout",
     "output_type": "stream",
     "text": [
      "user_favourites_count: 0.0\n",
      "user_followers_count: -0.010984392775297717\n",
      "user_friends_count: -0.0373860331993809\n",
      "user_listed_count: 0.024158234955190823\n",
      "user_statuses_count: 0.026646084813644076\n",
      "tweet_time_mean: -0.0044977208562929465\n",
      "tweet_time_std: 0.044232900606536285\n",
      "tweet_time_min: 0.029995359711894685\n",
      "tweet_time_max: -0.02480300277881136\n",
      "user_description_len: -0.012475212935169604\n",
      "account_age: -0.0015423611100371431\n",
      "tweet_len_mean: -0.03616251833633441\n",
      "tweet_len_std: 0.01451572510127823\n",
      "tweet_word_mean: -0.054079504222467004\n",
      "tweet_word_std: -0.0514121927327697\n",
      "retweet_len_mean: 0.0025870175288910087\n",
      "retweet_len_std: 0.007751629182111389\n",
      "retweet_word_mean: -0.003022968737127\n",
      "retweet_word_std: -0.09823618767855992\n"
     ]
    }
   ],
   "source": [
    "for feature, coef in zip(xtrain.columns.values.tolist(), fitted_ridge.coef_[0].tolist()):\n",
    "    print(\"{}: {}\".format(feature, coef))"
   ]
  },
  {
   "cell_type": "code",
   "execution_count": 0,
   "metadata": {
    "colab": {},
    "colab_type": "code",
    "id": "qoK0m2yVkyb7",
    "outputId": "65b46a47-8563-4115-a2dd-e2e6e4789f57"
   },
   "outputs": [
    {
     "name": "stdout",
     "output_type": "stream",
     "text": [
      "user_favourites_count: 0.0\n",
      "user_followers_count: -0.0030684119532310974\n",
      "user_friends_count: -0.0\n",
      "user_listed_count: 0.005861006334253806\n",
      "user_statuses_count: 0.0\n",
      "tweet_time_mean: -0.0\n",
      "tweet_time_std: 0.0\n",
      "tweet_time_min: 0.019705055827586075\n",
      "tweet_time_max: -0.0\n",
      "user_description_len: 0.0\n",
      "account_age: -0.0\n",
      "tweet_len_mean: -0.02878718176736991\n",
      "tweet_len_std: 0.0\n",
      "tweet_word_mean: -0.04152323503512772\n",
      "tweet_word_std: -0.03718634181572111\n",
      "retweet_len_mean: -0.0\n",
      "retweet_len_std: -0.0\n",
      "retweet_word_mean: -0.0\n",
      "retweet_word_std: -0.06062048667775922\n"
     ]
    }
   ],
   "source": [
    "for feature, coef in zip(xtrain.columns.values.tolist(), fitted_lasso.coef_.tolist()):\n",
    "    print(\"{}: {}\".format(feature, coef))"
   ]
  },
  {
   "cell_type": "markdown",
   "metadata": {
    "colab_type": "text",
    "id": "zYkKWR9ksa-c"
   },
   "source": [
    "[Back to TOC](#TOC) <br/>\n",
    "<a id ='Logistic-Regression'></a>\n",
    "#### 4.5 - Logistic Regression\n",
    "\n",
    "The logistic regression presented a small improvement on the accuracy from the base model, we need to try additional techniques to improve the accuracy."
   ]
  },
  {
   "cell_type": "code",
   "execution_count": 0,
   "metadata": {
    "colab": {},
    "colab_type": "code",
    "id": "4X6H_bHPkyb_",
    "outputId": "893b81d1-f755-4bab-8681-7c78580232c9"
   },
   "outputs": [
    {
     "name": "stdout",
     "output_type": "stream",
     "text": [
      "Train set score: 92.55%\n",
      "Test set score: 91.49%\n"
     ]
    }
   ],
   "source": [
    "X_train = sm.add_constant(xtrain)\n",
    "X_test = sm.add_constant(xtest)\n",
    "\n",
    "logistic_model = LogisticRegression().fit(X_train, ytrain)\n",
    "\n",
    "logistic_model_score = logistic_model.score(X_test, ytest)\n",
    "\n",
    "print(\"Train set score: {0:4.4}%\".format(logistic_model.score(X_train, ytrain)*100))\n",
    "print(\"Test set score: {0:4.4}%\".format(logistic_model.score(X_test, ytest)*100))"
   ]
  },
  {
   "cell_type": "code",
   "execution_count": 0,
   "metadata": {
    "colab": {},
    "colab_type": "code",
    "id": "fxEy9uLqkycB"
   },
   "outputs": [],
   "source": [
    "models_list[\"simple_logistic\"] = logistic_model\n",
    "filename = 'simple_logistic.sav'\n",
    "pickle.dump(logistic_model, open(filename, 'wb'))\n",
    "acc['lm'] = (logistic_model.score(X_train, ytrain), logistic_model_score)"
   ]
  },
  {
   "cell_type": "markdown",
   "metadata": {
    "colab_type": "text",
    "id": "4KGT4FMrkycE"
   },
   "source": [
    "[Back to TOC](#TOC) <br/>\n",
    "<a id ='Logistic-Regression-with-cross-validation'></a>\n",
    "#### 4.6 - Logistic Regression with cross validation\n",
    "\n",
    "Logistic regression with Cross Validation has improved the accuracy and reached 91.96% on Test data which is an improvement from the Logistic regression, we will continue to see if we can improve further using other techniques."
   ]
  },
  {
   "cell_type": "code",
   "execution_count": 0,
   "metadata": {
    "colab": {},
    "colab_type": "code",
    "id": "2_lBm6Q3kycF",
    "outputId": "aacfadff-a209-422c-b4f7-e7f8167478cb",
    "scrolled": true
   },
   "outputs": [
    {
     "name": "stdout",
     "output_type": "stream",
     "text": [
      "Train set score with Cross Validation: 92.58%\n",
      "Test set score with Cross Validation: 91.96%\n"
     ]
    }
   ],
   "source": [
    "logistic_model_cv = LogisticRegressionCV(Cs=[1,10,100,1000,10000], cv=3, penalty='l2', \n",
    "                                       solver='newton-cg').fit(X_train,ytrain)\n",
    "\n",
    "print(\"Train set score with Cross Validation: {0:4.4}%\".format(logistic_model_cv.score(X_train, ytrain)*100))\n",
    "print(\"Test set score with Cross Validation: {0:4.4}%\".format(logistic_model_cv.score(X_test, ytest)*100))"
   ]
  },
  {
   "cell_type": "code",
   "execution_count": 0,
   "metadata": {
    "colab": {},
    "colab_type": "code",
    "id": "bwb96QwpkycH"
   },
   "outputs": [],
   "source": [
    "models_list[\"simple_logistic_Cross_Validation\"] = logistic_model_cv\n",
    "filename = 'logistic_model_cv.sav'\n",
    "pickle.dump(logistic_model_cv, open(filename, 'wb'))\n",
    "acc['lm_cv3'] = (logistic_model_cv.score(X_train, ytrain), logistic_model_cv.score(X_test, ytest))"
   ]
  },
  {
   "cell_type": "markdown",
   "metadata": {
    "colab_type": "text",
    "id": "EXYhFgFXkycI"
   },
   "source": [
    "[Back to TOC](#TOC) <br/>\n",
    "<a id ='Logistic-Regression-with-polynomial-degree-3'></a>\n",
    "#### 4.7 - Logistic Regression with polynomial degree 3\n",
    "\n",
    "Test score accuracy has increased with Polynomial degree of predictors for Logistic Regression on the test data and reached 93.47%. "
   ]
  },
  {
   "cell_type": "code",
   "execution_count": 0,
   "metadata": {
    "colab": {},
    "colab_type": "code",
    "id": "pdNASuJZkycJ",
    "outputId": "f501839d-b7a6-4124-93a9-de2cc1d31c79"
   },
   "outputs": [
    {
     "name": "stdout",
     "output_type": "stream",
     "text": [
      "Train set score with Polynomial Features (degree=3) and with Cross Validation: 98.26%\n",
      "Test set score with Polynomial Features (degree=3) and with Cross Validation: 93.47%\n"
     ]
    }
   ],
   "source": [
    "X_train_poly = PolynomialFeatures(degree=3, include_bias=False).fit_transform(X_train)\n",
    "\n",
    "logistic_model_poly_cv = LogisticRegressionCV(Cs=[1,10,100,1000,10000], cv=3, penalty='l2', \n",
    "                                       solver='newton-cg').fit(X_train_poly,ytrain)\n",
    "\n",
    "X_test_poly = PolynomialFeatures(degree=3, include_bias=False).fit_transform(X_test)\n",
    "print(\"Train set score with Polynomial Features (degree=3) and with Cross Validation: {0:4.4}%\".\n",
    "      format(logistic_model_poly_cv.score(X_train_poly, ytrain)*100))\n",
    "print(\"Test set score with Polynomial Features (degree=3) and with Cross Validation: {0:4.4}%\".\n",
    "      format(logistic_model_poly_cv.score(X_test_poly, ytest)*100))"
   ]
  },
  {
   "cell_type": "code",
   "execution_count": 0,
   "metadata": {
    "colab": {},
    "colab_type": "code",
    "id": "KMCTmfwgkycM"
   },
   "outputs": [],
   "source": [
    "models_list[\"poly_logistic_cv\"] = logistic_model_poly_cv\n",
    "filename = 'logistic_model_poly_cv.sav'\n",
    "pickle.dump(logistic_model_poly_cv, open(filename, 'wb'))\n",
    "acc['lm_poly3'] = (logistic_model_poly_cv.score(X_train_poly, ytrain), logistic_model_poly_cv.score(X_test_poly, ytest))"
   ]
  },
  {
   "cell_type": "markdown",
   "metadata": {
    "colab_type": "text",
    "id": "n7Tc0jEssa-c"
   },
   "source": [
    "[Back to TOC](#TOC) <br/>\n",
    "<a id ='KNN'></a>\n",
    "#### 4.8 - KNN\n",
    "\n",
    "We have tested the k-Nearest Neighbors algorithm as well and we used cross validation to evaluate the best k with the highest accuracy score. We have stored the best k in the variable best_k which has a value equal of 17. The test score is higher than the base model but lower than Logistic Regression with polynomial degree 3."
   ]
  },
  {
   "cell_type": "code",
   "execution_count": 0,
   "metadata": {
    "colab": {},
    "colab_type": "code",
    "id": "4Cc-cCoWkycO"
   },
   "outputs": [],
   "source": [
    "# the code below in KNN is adapted from HW2 solution\n",
    "\n",
    "# define k values\n",
    "k_values = range(1,20)\n",
    "\n",
    "# build a dictionary KNN models\n",
    "KNNModels = {k: KNeighborsClassifier(n_neighbors=k) for k in k_values}\n",
    "train_scores = [KNeighborsClassifier(n_neighbors=k).fit(xtrain, ytrain).score(xtrain, ytrain) for k in k_values]\n",
    "cv_scores = [cross_val_score(KNeighborsClassifier(n_neighbors=k), xtrain, ytrain, cv=5) for k in k_values]\n",
    "\n",
    "\n",
    "# fit each KNN model\n",
    "for k_value in KNNModels: \n",
    "    KNNModels[k_value].fit(xtrain, ytrain)"
   ]
  },
  {
   "cell_type": "code",
   "execution_count": 0,
   "metadata": {
    "colab": {},
    "colab_type": "code",
    "id": "d5_UVUWMkycQ"
   },
   "outputs": [],
   "source": [
    "# Generate predictions\n",
    "knn_predicted_train = {k: KNNModels[k].predict(xtrain) for k in KNNModels}\n",
    "knn_predicted_test = {k: KNNModels[k].predict(xtest) for k in KNNModels}"
   ]
  },
  {
   "cell_type": "code",
   "execution_count": 0,
   "metadata": {
    "colab": {},
    "colab_type": "code",
    "id": "wbHJ0eX1kycU"
   },
   "outputs": [],
   "source": [
    "# the following code was adapted from HW7 solutions\n",
    "def plot_cv(ax, hyperparameter, cv_scores):\n",
    "    cv_means = np.mean(cv_scores, axis=1)\n",
    "    cv_stds = np.std(cv_scores, axis=1)\n",
    "    handle, = ax.plot(hyperparameter, cv_means, '-*', label=\"Validation (mean)\")\n",
    "    plt.fill_between(hyperparameter, cv_means - 2.*cv_stds, cv_means + 2.*cv_stds, alpha=.3, color=handle.get_color())"
   ]
  },
  {
   "cell_type": "code",
   "execution_count": 0,
   "metadata": {
    "colab": {},
    "colab_type": "code",
    "id": "ldqWen1bkycW",
    "outputId": "42ca8593-068e-4bb8-a1e2-92213cb3f4a5"
   },
   "outputs": [
    {
     "name": "stdout",
     "output_type": "stream",
     "text": [
      "Best k: 17\n"
     ]
    },
    {
     "data": {
      "image/png": "[encoded data removed]",
      "text/plain": [
       "<Figure size 864x504 with 1 Axes>"
      ]
     },
     "metadata": {
      "tags": []
     },
     "output_type": "display_data"
    }
   ],
   "source": [
    "# the following code was adapted from HW7 solutions\n",
    "# find the best model\n",
    "fig, ax = plt.subplots(figsize=(12,7))\n",
    "ax.plot(k_values, train_scores, '-+', label=\"Training\")\n",
    "plot_cv(ax, k_values, cv_scores)\n",
    "plt.xlabel(\"n_neighbors\")\n",
    "plt.ylabel(\"Mean CV accuracy\");\n",
    "plt.legend()\n",
    "\n",
    "best_k = k_values[np.argmax(np.mean(cv_scores, axis=1))]\n",
    "print(\"Best k:\", best_k)"
   ]
  },
  {
   "cell_type": "code",
   "execution_count": 0,
   "metadata": {
    "colab": {},
    "colab_type": "code",
    "id": "n72bcyfzkycZ",
    "outputId": "0630f97b-7f08-4357-dae3-0074aee12365"
   },
   "outputs": [
    {
     "name": "stdout",
     "output_type": "stream",
     "text": [
      "Training accuracy is 93.06%\n",
      "Test accuracy is 92.72 %\n"
     ]
    }
   ],
   "source": [
    "# evaluate classification accuracy\n",
    "best_model_KNN_train_score = accuracy_score(ytrain, knn_predicted_train[best_k].round())\n",
    "best_model_KNN_test_score = accuracy_score(ytest, knn_predicted_test[best_k].round())\n",
    "print(\"Training accuracy is {:.4}%\".format(best_model_KNN_train_score*100))\n",
    "print(\"Test accuracy is {:.4} %\".format(best_model_KNN_test_score*100))"
   ]
  },
  {
   "cell_type": "code",
   "execution_count": 0,
   "metadata": {
    "colab": {},
    "colab_type": "code",
    "id": "Nfv6OOPEkycc"
   },
   "outputs": [],
   "source": [
    "# save model to the list\n",
    "best_k = 17\n",
    "best_k_17 = KNNModels[best_k].fit(xtrain, ytrain)\n",
    "\n",
    "models_list[\"knn_17\"] = best_k_17\n",
    "filename = 'knn_17.sav'\n",
    "pickle.dump(best_k_17, open(filename, 'wb'))\n",
    "acc['knn_17'] = (best_model_KNN_train_score, best_model_KNN_test_score)"
   ]
  },
  {
   "cell_type": "markdown",
   "metadata": {
    "colab_type": "text",
    "id": "rqwXXIPwkyce"
   },
   "source": [
    "[Back to TOC](#TOC) <br/>\n",
    "<a id ='Decision-tree'></a>\n",
    "#### 4.9 - Decision tree\n",
    "\n",
    "The decision tree is performing similiar to the logistic regression with polynomial 3. "
   ]
  },
  {
   "cell_type": "code",
   "execution_count": 0,
   "metadata": {
    "colab": {},
    "colab_type": "code",
    "id": "qNSWnJ0_kyce"
   },
   "outputs": [],
   "source": [
    "depth_list =list(range(1, 18))\n",
    "\n",
    "cv_means = []\n",
    "cv_stds = []\n",
    "train_scores = []\n",
    "best_model_mean = 0\n",
    "\n",
    "for depth in depth_list:\n",
    "    #Fit a decision tree to the training set\n",
    "    model_DTC = DecisionTreeClassifier(max_depth=depth).fit(xtrain, ytrain)\n",
    "    scores = cross_val_score(model_DTC, xtrain, ytrain, cv=5)\n",
    "    \n",
    "    #training set performance\n",
    "    train_scores.append(model_DTC.score(xtrain, ytrain))\n",
    "    \n",
    "    #save best model\n",
    "    if scores.mean() > best_model_mean:\n",
    "            best_model_mean=scores.mean()\n",
    "            best_model_DTC=model_DTC\n",
    "            best_model_std =scores.std()\n",
    "            \n",
    "    \n",
    "    #performance for 5-fold cross validation\n",
    "    cv_means.append(scores.mean())\n",
    "    cv_stds.append(scores.std())\n",
    "    \n",
    "\n",
    "cv_means = np.array(cv_means)\n",
    "cv_stds = np.array(cv_stds)\n",
    "train_scores = np.array(train_scores)"
   ]
  },
  {
   "cell_type": "code",
   "execution_count": 0,
   "metadata": {
    "colab": {},
    "colab_type": "code",
    "id": "EUtwy9T6kycq",
    "outputId": "a98c6861-2b48-4889-9654-5abc8d24a8af"
   },
   "outputs": [
    {
     "data": {
      "image/png": "[encoded data removed]",
      "text/plain": [
       "<Figure size 864x504 with 1 Axes>"
      ]
     },
     "metadata": {
      "tags": []
     },
     "output_type": "display_data"
    }
   ],
   "source": [
    "plt.subplots(1, 1, figsize=(12,7))\n",
    "plt.plot(depth_list, cv_means, '*-', label=\"Mean CV\")\n",
    "plt.fill_between(depth_list, cv_means - 2*cv_stds, cv_means + 2*cv_stds, alpha=0.3)\n",
    "ylim = plt.ylim()\n",
    "plt.plot(depth_list, train_scores, '<-', label=\"Train Accuracy\")\n",
    "plt.legend()\n",
    "plt.ylabel(\"Score\", fontsize=16)\n",
    "plt.xlabel(\"Max Depth\", fontsize=16)\n",
    "plt.title(\"Scores for Decision Tree for \\nDifferent depth value\", fontsize=16)\n",
    "plt.xticks(depth_list);"
   ]
  },
  {
   "cell_type": "code",
   "execution_count": 0,
   "metadata": {
    "colab": {},
    "colab_type": "code",
    "id": "GW-PtopYkycs",
    "outputId": "00851487-b367-4c44-ef28-131914ffdc93"
   },
   "outputs": [
    {
     "name": "stdout",
     "output_type": "stream",
     "text": [
      "Training accuracy is 96.69%\n",
      "Test accuracy is 92.53%\n"
     ]
    }
   ],
   "source": [
    "best_model_DTC_train_score = accuracy_score(ytrain, best_model_DTC.predict(xtrain))\n",
    "best_model_DTC_test_score = accuracy_score(ytest, best_model_DTC.predict(xtest))\n",
    "print(\"Training accuracy is {:.4}%\".format(best_model_DTC_train_score*100))\n",
    "print(\"Test accuracy is {:.4}%\".format(best_model_DTC_test_score*100))"
   ]
  },
  {
   "cell_type": "code",
   "execution_count": 0,
   "metadata": {
    "colab": {},
    "colab_type": "code",
    "id": "klLH7N3hkycw"
   },
   "outputs": [],
   "source": [
    "models_list[\"decision_tree\"] = best_model_DTC\n",
    "filename = 'decision_tree.sav'\n",
    "pickle.dump(best_model_DTC, open(filename, 'wb'))\n",
    "acc['dtc'] = (best_model_DTC_train_score, best_model_DTC_test_score )"
   ]
  },
  {
   "cell_type": "markdown",
   "metadata": {
    "colab_type": "text",
    "id": "voTDbTo1sa-d"
   },
   "source": [
    "[Back to TOC](#TOC) <br/>\n",
    "<a id ='Random-Forest'></a>\n",
    "#### 4.10 -Random Forest\n",
    "\n",
    "The Random Forest is giving us the highest accuracy from all the models tested so far on the test data. but we may be able to increase this value with Boosting or Bagging."
   ]
  },
  {
   "cell_type": "code",
   "execution_count": 0,
   "metadata": {
    "colab": {},
    "colab_type": "code",
    "id": "QUjrMzGxkycx",
    "outputId": "a025447c-d584-4b03-b3e7-dbab0157e291"
   },
   "outputs": [
    {
     "name": "stdout",
     "output_type": "stream",
     "text": [
      "Random Forest Training accuracy is 95.71%\n",
      "Random Forest Test accuracy is 93.85%\n"
     ]
    }
   ],
   "source": [
    "rf = RandomForestClassifier(max_depth=6)\n",
    "rf_model = rf.fit(xtrain, ytrain)\n",
    "rf_train_acc = rf_model.score(xtrain, ytrain)\n",
    "rf_test_acc = rf_model.score(xtest, ytest)\n",
    "\n",
    "print(\"Random Forest Training accuracy is {:.4}%\".format(rf_train_acc*100))\n",
    "print(\"Random Forest Test accuracy is {:.4}%\".format(rf_test_acc*100))"
   ]
  },
  {
   "cell_type": "code",
   "execution_count": 0,
   "metadata": {
    "colab": {},
    "colab_type": "code",
    "id": "ZRWoFWDdkyc1"
   },
   "outputs": [],
   "source": [
    "models_list[\"random_forest\"] = rf_model\n",
    "filename = 'random_forest.sav'\n",
    "pickle.dump(rf_model, open(filename, 'wb'))\n",
    "acc['rf'] = (rf_train_acc, rf_test_acc)"
   ]
  },
  {
   "cell_type": "markdown",
   "metadata": {
    "colab_type": "text",
    "id": "tNoJ3eOqkyc3"
   },
   "source": [
    "[Back to TOC](#TOC) <br/>\n",
    "<a id ='Boosting-AdaBoost-Classifier'></a>\n",
    "#### 4.11 -Boosting - AdaBoost Classifier\n",
    "\n",
    "For the model with depth = 1, the accuracy for train and test datasets are close to each other. However, for the models with depth = 2, 3 and 4, there are a big difference in the accuracy for test and train data. I would choose depth =2 and iterations = 180. This model is performing the best so far."
   ]
  },
  {
   "cell_type": "code",
   "execution_count": 0,
   "metadata": {
    "colab": {},
    "colab_type": "code",
    "id": "EeT2PiP7kyc3"
   },
   "outputs": [],
   "source": [
    "AdaBoost_models = {}\n",
    "AdaBoost_scores_train = {}\n",
    "AdaBoost_scores_test = {}\n",
    "for e in range(1, 5):\n",
    "    AdaBoost = AdaBoostClassifier(DecisionTreeClassifier(max_depth=e), n_estimators=800, learning_rate=0.05)\n",
    "    AdaBoost_models[e] = AdaBoost.fit(xtrain, ytrain)\n",
    "    AdaBoost_scores_train[e] = list(AdaBoost_models[e].staged_score(xtrain, ytrain))\n",
    "    AdaBoost_scores_test[e] = list(AdaBoost_models[e].staged_score(xtest, ytest))"
   ]
  },
  {
   "cell_type": "code",
   "execution_count": 0,
   "metadata": {
    "colab": {},
    "colab_type": "code",
    "id": "ixvQ3qQNkyc4",
    "outputId": "996747e6-2514-41f4-85ec-331467922ec3"
   },
   "outputs": [
    {
     "data": {
      "image/png": "[encoded data removed]",
      "text/plain": [
       "<Figure size 1440x2520 with 4 Axes>"
      ]
     },
     "metadata": {
      "tags": []
     },
     "output_type": "display_data"
    }
   ],
   "source": [
    "fig, ax = plt.subplots(4,1, figsize=(20,35))\n",
    "for e in range(0, 4):\n",
    "    ax[e].plot(AdaBoost_scores_train[e+1], label='Train')\n",
    "    ax[e].plot(AdaBoost_scores_test[e+1], label='Test')\n",
    "    ax[e].set_xlabel('Number of Iterations', fontsize=16)\n",
    "    ax[e].set_ylabel('Accuracy', fontsize=16)\n",
    "    ax[e].tick_params(labelsize=16)\n",
    "    ax[e].legend( fontsize=16)\n",
    "    ax[e].set_title('Depth = %s'%(e+1), fontsize=18)\n",
    "fig.suptitle('Accuracy by number of Iterations\\n for various Depth',y=0.92,fontsize=20);"
   ]
  },
  {
   "cell_type": "code",
   "execution_count": 0,
   "metadata": {
    "colab": {},
    "colab_type": "code",
    "id": "B56G4UJikyc7"
   },
   "outputs": [],
   "source": [
    "AdaBoost = AdaBoostClassifier(DecisionTreeClassifier(max_depth=2), n_estimators=800, learning_rate=0.05)\n",
    "AdaBoost_2 = AdaBoost.fit(xtrain, ytrain)"
   ]
  },
  {
   "cell_type": "code",
   "execution_count": 0,
   "metadata": {
    "colab": {},
    "colab_type": "code",
    "id": "P8msiiHwkyc8"
   },
   "outputs": [],
   "source": [
    "models_list[\"AdaBoost_2\"] = AdaBoost_2\n",
    "filename = 'AdaBoost_2.sav'\n",
    "pickle.dump(AdaBoost_2, open(filename, 'wb'))\n",
    "acc['adaboost'] = (AdaBoost_scores_train[2][179], AdaBoost_scores_test[2][179])"
   ]
  },
  {
   "cell_type": "markdown",
   "metadata": {
    "colab_type": "text",
    "id": "buFW6kIwsa-f"
   },
   "source": [
    "[Back to TOC](#TOC) <br/>\n",
    "<a id ='SVM'></a>\n",
    "#### 4.12 -SVM\n",
    "\n",
    "We tried SVM and reached a test accuracy of 93.28%. As it is an expensive model, we ended up using eyeballing to fit a model so we can try the SVM method. However, ideally, we would like to perform a grid search to find te best kernal and c value."
   ]
  },
  {
   "cell_type": "code",
   "execution_count": 0,
   "metadata": {
    "colab": {},
    "colab_type": "code",
    "id": "mEZO5CmXkyc_",
    "outputId": "41e7ca65-80b9-4ad1-d518-7e6afc284e19"
   },
   "outputs": [
    {
     "name": "stdout",
     "output_type": "stream",
     "text": [
      "Train set score: 94.98%\n",
      "Test set score: 93.28%\n"
     ]
    }
   ],
   "source": [
    "# Import the Libraries Needed\n",
    "from sklearn import svm\n",
    "from sklearn.model_selection import GridSearchCV\n",
    "\n",
    "# Load the Data\n",
    "\n",
    "# Fit a SVM Model by Grid Search\n",
    "# parameters = {'kernel':('linear','rbf','poly','sigmoid'), 'C':[0.01,0.1,1,10,100]}\n",
    "# svc = svm.SVC(random_state=0)\n",
    "# svm_model = GridSearchCV(svc, parameters, cv=5)\n",
    "# svm_model.fit(X_train, ytrain)\n",
    "\n",
    "# Fit a Model by Eyeballing\n",
    "svm_model = svm.SVC(kernel='poly',C=1,degree=4, random_state=0)  \n",
    "svm_model.fit(xtrain, ytrain) \n",
    "\n",
    "#models_list = []\n",
    "models_list[\"SVM\"] =  svm_model\n",
    "print(\"Train set score: {0:4.4}%\".format(svm_model.score(xtrain, ytrain)*100))\n",
    "print(\"Test set score: {0:4.4}%\".format(svm_model.score(xtest, ytest)*100))"
   ]
  },
  {
   "cell_type": "code",
   "execution_count": 0,
   "metadata": {
    "colab": {},
    "colab_type": "code",
    "id": "VYzBA0TpkydB"
   },
   "outputs": [],
   "source": [
    "filename = 'svm.sav'\n",
    "pickle.dump(svm_model, open(filename, 'wb'))\n",
    "acc['svm_poly_c1'] = (svm_model.score(xtrain, ytrain), svm_model.score(xtest, ytest))"
   ]
  },
  {
   "cell_type": "code",
   "execution_count": 0,
   "metadata": {
    "colab": {},
    "colab_type": "code",
    "id": "Q8p60AjGkydD"
   },
   "outputs": [],
   "source": [
    "# we have finished all our models. we want to save the accuracy score and models to json\n",
    "with open('models.pickle', 'wb') as handle:\n",
    "    pickle.dump(models_list, handle, protocol=pickle.HIGHEST_PROTOCOL)\n",
    "acc = pd.DataFrame(acc)\n",
    "acc.to_json('acc.json')"
   ]
  },
  {
   "cell_type": "markdown",
   "metadata": {
    "colab_type": "text",
    "id": "gYnJCvcutddz"
   },
   "source": [
    "[Back to TOC](#TOC) <br/>\n",
    "<a id ='KMeans-Clustering'></a>\n",
    "#### 4.13 - K-Means Clustering\n",
    "\n",
    "We want to explore if unsupervised k-means clustering align with bot / non-bot classification."
   ]
  },
  {
   "cell_type": "code",
   "execution_count": 0,
   "metadata": {
    "colab": {},
    "colab_type": "code",
    "id": "0vjgvBpBkydF"
   },
   "outputs": [],
   "source": [
    "from sklearn.cluster import KMeans\n",
    "kmeans = KMeans(n_clusters=2, init='random', random_state=0).fit(users_df[col_pred_numerical].values)"
   ]
  },
  {
   "cell_type": "code",
   "execution_count": 0,
   "metadata": {
    "colab": {},
    "colab_type": "code",
    "id": "aPuo9l1_kydH"
   },
   "outputs": [],
   "source": [
    "# add the classification result\n",
    "k2 = users_df[col_pred_numerical]\n",
    "\n",
    "k2['k=2'] = kmeans.labels_"
   ]
  },
  {
   "cell_type": "code",
   "execution_count": 0,
   "metadata": {
    "colab": {},
    "colab_type": "code",
    "id": "mhhBRZMSkydJ"
   },
   "outputs": [],
   "source": [
    "# create df for easy plot\n",
    "kmean_0 = k2.loc[k2['k=2']==0]\n",
    "kmean_1 = k2.loc[k2['k=2']==1]\n",
    "class_0 = users_df.loc[users_df['class_boto']==0]\n",
    "class_1 = users_df.loc[users_df['class_boto']==1]"
   ]
  },
  {
   "cell_type": "code",
   "execution_count": 0,
   "metadata": {
    "colab": {},
    "colab_type": "code",
    "id": "Pi5pNQDAkydL",
    "outputId": "f78a1028-bb0b-4c23-9428-e756d781f1f3"
   },
   "outputs": [
    {
     "name": "stdout",
     "output_type": "stream",
     "text": [
      "The size of the two clusters from kmeans clustering are 277 and 3949.\n"
     ]
    }
   ],
   "source": [
    "# see how many were classified as bots\n",
    "print ('The size of the two clusters from kmeans clustering are {} and {}.'.format(len(kmean_0), len(kmean_1)))"
   ]
  },
  {
   "cell_type": "markdown",
   "metadata": {
    "colab_type": "text",
    "id": "n9kYjX7hkydN"
   },
   "source": [
    "Given the size of cluster 0, it looks like cluster 0 might be a bot cluster.<br/>\n",
    "\n",
    "We picked two arbitary features to visualize the two clusters from unsupervised KMeans (k=2), and how they align with botometer classification. Visually they align well, and we want to see how many bots are in cluster 0 and non-bots in cluster 1."
   ]
  },
  {
   "cell_type": "code",
   "execution_count": 0,
   "metadata": {
    "colab": {},
    "colab_type": "code",
    "id": "DDdo0R9okydO",
    "outputId": "3eeee31d-d5ad-415d-afb6-895f57d6f4d0",
    "scrolled": false
   },
   "outputs": [
    {
     "data": {
      "image/png": "[encoded data removed]",
      "text/plain": [
       "<Figure size 720x432 with 1 Axes>"
      ]
     },
     "metadata": {
      "tags": []
     },
     "output_type": "display_data"
    }
   ],
   "source": [
    "# quick plot to see if it naturally come into two clusters\n",
    "plt.figure(figsize=(10,6))\n",
    "plt.scatter(np.log(class_0['account_age']), np.log(class_0['tweet_time_std']), c='salmon', s=70, label = 'class_boto: non-bots', alpha=0.2)\n",
    "plt.scatter(np.log(class_1['account_age']), np.log(class_1['tweet_time_std']), c='royalblue', s=70, label = 'class_bots', alpha=0.2)\n",
    "plt.scatter(np.log(kmean_0['account_age']), np.log(kmean_0['tweet_time_std']), c='royalblue', s=7, label = 'cluster 0: possible bot', alpha=1)\n",
    "plt.scatter(np.log(kmean_1['account_age']), np.log(kmean_1['tweet_time_std']), c='salmon', s=7, label = 'cluster 1: possible non-bot', alpha=1)\n",
    "plt.xlabel('account_age')\n",
    "plt.ylabel('tweet_time_std')\n",
    "plt.title('KMeans Clustering with K=2')\n",
    "plt.legend(loc='best', bbox_to_anchor=(1, 0., 0.5, 0.5));"
   ]
  },
  {
   "cell_type": "code",
   "execution_count": 0,
   "metadata": {
    "colab": {},
    "colab_type": "code",
    "id": "OPIEXNutkydP",
    "outputId": "979b3d2a-f262-4ede-bbc0-8e4059163461"
   },
   "outputs": [
    {
     "name": "stdout",
     "output_type": "stream",
     "text": [
      "proportion of cluster 0 users which are bots (precision) is 36.46%\n"
     ]
    }
   ],
   "source": [
    "# proportion of cluster 0 users which are bots (precision)\n",
    "precision_bot_0 = k2[(users_df['class_boto']==1) & (k2['k=2']==0)].shape[0] / kmean_0.shape[0]\n",
    "print ('proportion of cluster 0 users which are bots (precision) is {:.2f}%'.format(precision_bot_0*100))"
   ]
  },
  {
   "cell_type": "code",
   "execution_count": 0,
   "metadata": {
    "colab": {},
    "colab_type": "code",
    "id": "gP6nA8zHkydR",
    "outputId": "b03d23e2-716e-4367-8eec-373fa512dec9"
   },
   "outputs": [
    {
     "name": "stdout",
     "output_type": "stream",
     "text": [
      "proportion of bots which are in cluster 0 (recall) is 28.94%\n"
     ]
    }
   ],
   "source": [
    "# proportion of bots which are in cluster 0 (recall)\n",
    "recall_bot_0 = k2[(users_df['class_boto']==1) & (k2['k=2']==0)].shape[0] / class_1.shape[0]\n",
    "print ('proportion of bots which are in cluster 0 (recall) is {:.2f}%'.format(recall_bot_0*100))"
   ]
  },
  {
   "cell_type": "code",
   "execution_count": 0,
   "metadata": {
    "colab": {},
    "colab_type": "code",
    "id": "b0y7kxqqkydT",
    "outputId": "7c8a8a72-8955-4451-b548-22a9c14a5d7e"
   },
   "outputs": [
    {
     "name": "stdout",
     "output_type": "stream",
     "text": [
      "proportion of cluster 1 users which are bots (precision) is 6.28%\n"
     ]
    }
   ],
   "source": [
    "# proportion of cluster 1 users which are bots (precision)\n",
    "precision_bot_1 = k2[(users_df['class_boto']==1) & (k2['k=2']==1)].shape[0] / kmean_1.shape[0]\n",
    "print ('proportion of cluster 1 users which are bots (precision) is {:.2f}%'.format(precision_bot_1*100))"
   ]
  },
  {
   "cell_type": "code",
   "execution_count": 0,
   "metadata": {
    "colab": {},
    "colab_type": "code",
    "id": "UKudsa9QkydV",
    "outputId": "954935d9-ad5c-4ba7-8f67-14689a3853d9"
   },
   "outputs": [
    {
     "name": "stdout",
     "output_type": "stream",
     "text": [
      "proportion of bots which are in cluster 0 (recall) is 71.06%\n"
     ]
    }
   ],
   "source": [
    "# proportion of bots which are in cluster 1 (recall)\n",
    "recall_bot_1 = k2[(users_df['class_boto']==1) & (k2['k=2']==1)].shape[0] / class_1.shape[0]\n",
    "print ('proportion of bots which are in cluster 0 (recall) is {:.2f}%'.format(recall_bot_1*100))"
   ]
  },
  {
   "cell_type": "markdown",
   "metadata": {
    "colab_type": "text",
    "id": "JOLhGL5NkydW"
   },
   "source": [
    "However, when we look at precision and recall for cluster 0 being bots and cluster 1 being bots, we observed that clusters are not as well aligned with botometer classification as the graph is showing above. <br/>\n",
    "\n",
    "It looks like cluster 0 would a better choice as bot cluster as it has a better precision. Therefore KMeans looks like a promising approach in identifying bots and non-bots with unsupervised learning. KMeans clustering could also be used in supervised learning model as a predictor."
   ]
  },
  {
   "cell_type": "code",
   "execution_count": 0,
   "metadata": {
    "colab": {},
    "colab_type": "code",
    "id": "2uGjy-GykydX"
   },
   "outputs": [],
   "source": [
    "filename = 'kmeans.sav'\n",
    "pickle.dump(kmeans, open(filename, 'wb'))"
   ]
  },
  {
   "cell_type": "markdown",
   "metadata": {
    "colab_type": "text",
    "id": "hvvHiDimkydY"
   },
   "source": [
    "[Back to TOC](#TOC) <br/>\n",
    "<a id ='Validate-Botometer-Results'></a>\n",
    "#### 4.14 - Validate Botometer Results\n",
    "  \n",
    "When comparing botometer scores and manually classified results, we noticed that botometer does not always predict actual bot / non-bot correctly. Therefore we want to compare our verified users with Botometer classifications, and see if we can capture the subspace between botometer results and the manually verified results. <br/>\n",
    "\n",
    "We try to use a random forest to explore the subspace between botometer results and the actual result (manually verified classification). We chose to use non-linear model as we expect the relationship between botometer result and actual result to be non-linear.  <br/>\n",
    "  \n",
    "We want to train a model with one feature plus botometer score as predictors, and the actual classification as the response. In the principle that the botometer is occasionally accurate, and we want to see under what occasions they are accurate / inaccurate, and therefore to capture the residuals between our predictions (which use botometer score as predictors) and the actual results. (* we chose to features as we want to minimize number of features, given our sample size - manually verified bot account - is only 44)"
   ]
  },
  {
   "cell_type": "markdown",
   "metadata": {
    "colab_type": "text",
    "id": "pKD3CJDfkydY"
   },
   "source": [
    "While the model above improved accuracy from 72.73% to 83.33%, the model is very arbitary especially given that our sample size (44) is very small. However, this is an approach that could potentially be further devloped to improve prediction accuracy, especially to train a model with larger training with imperfect labels, and improve it with a smaller training set with better labels."
   ]
  },
  {
   "cell_type": "code",
   "execution_count": 0,
   "metadata": {
    "colab": {},
    "colab_type": "code",
    "id": "mplqCmlVkydZ"
   },
   "outputs": [],
   "source": [
    "# load verified bots and nonbots\n",
    "verify_df = pd.read_csv('boto_verify.csv')[['screen_name', 'class_verified']]\n",
    "verify_df = verify_df[~verify_df['class_verified'].isnull()]"
   ]
  },
  {
   "cell_type": "code",
   "execution_count": 0,
   "metadata": {
    "colab": {},
    "colab_type": "code",
    "id": "N74hjUBXkyda"
   },
   "outputs": [],
   "source": [
    "# build a dataframe that has screen_name, class_bot, class_verified, feature 1\n",
    "# we picked one arbitary features we think will be important\n",
    "# and see if we can improve botometer's prediction on verified account accuracy using decision tree \n",
    "feature_1 = 'tweet_time_mean'\n",
    "verify_df = pd.merge(verify_df, users_df[['class_boto', 'screen_name', feature_1]])"
   ]
  },
  {
   "cell_type": "code",
   "execution_count": 0,
   "metadata": {
    "colab": {},
    "colab_type": "code",
    "id": "p2xCJRjGkyde",
    "outputId": "c1343ff5-397a-441c-daeb-0b920cd840a5"
   },
   "outputs": [
    {
     "data": {
      "text/html": [
       "<div>\n",
       "<style scoped>\n",
       "    .dataframe tbody tr th:only-of-type {\n",
       "        vertical-align: middle;\n",
       "    }\n",
       "\n",
       "    .dataframe tbody tr th {\n",
       "        vertical-align: top;\n",
       "    }\n",
       "\n",
       "    .dataframe thead th {\n",
       "        text-align: right;\n",
       "    }\n",
       "</style>\n",
       "<table border=\"1\" class=\"dataframe\">\n",
       "  <thead>\n",
       "    <tr style=\"text-align: right;\">\n",
       "      <th></th>\n",
       "      <th>class_verified</th>\n",
       "      <th>class_boto</th>\n",
       "      <th>tweet_time_mean</th>\n",
       "    </tr>\n",
       "  </thead>\n",
       "  <tbody>\n",
       "    <tr>\n",
       "      <th>0</th>\n",
       "      <td>1.0</td>\n",
       "      <td>1</td>\n",
       "      <td>-0.074599</td>\n",
       "    </tr>\n",
       "    <tr>\n",
       "      <th>1</th>\n",
       "      <td>1.0</td>\n",
       "      <td>1</td>\n",
       "      <td>-0.075464</td>\n",
       "    </tr>\n",
       "    <tr>\n",
       "      <th>2</th>\n",
       "      <td>1.0</td>\n",
       "      <td>0</td>\n",
       "      <td>-0.074661</td>\n",
       "    </tr>\n",
       "    <tr>\n",
       "      <th>3</th>\n",
       "      <td>1.0</td>\n",
       "      <td>0</td>\n",
       "      <td>-0.075440</td>\n",
       "    </tr>\n",
       "    <tr>\n",
       "      <th>4</th>\n",
       "      <td>1.0</td>\n",
       "      <td>0</td>\n",
       "      <td>-0.075345</td>\n",
       "    </tr>\n",
       "  </tbody>\n",
       "</table>\n",
       "</div>"
      ],
      "text/plain": [
       "   class_verified  class_boto  tweet_time_mean\n",
       "0             1.0           1        -0.074599\n",
       "1             1.0           1        -0.075464\n",
       "2             1.0           0        -0.074661\n",
       "3             1.0           0        -0.075440\n",
       "4             1.0           0        -0.075345"
      ]
     },
     "execution_count": 63,
     "metadata": {
      "tags": []
     },
     "output_type": "execute_result"
    }
   ],
   "source": [
    "# take a look at data\n",
    "verify_df.drop(columns=['screen_name']).head(5)"
   ]
  },
  {
   "cell_type": "code",
   "execution_count": 0,
   "metadata": {
    "colab": {},
    "colab_type": "code",
    "id": "kLzSQpOWkydf",
    "outputId": "883eb435-08df-42b8-eff9-ebd672e26d5d"
   },
   "outputs": [
    {
     "name": "stdout",
     "output_type": "stream",
     "text": [
      "The accuracy of Botometer in predicting manually verified classification is 71.43%.\n"
     ]
    }
   ],
   "source": [
    "# first we want to examine the accuracy of class_boto when cross checking with manually verified classifications\n",
    "boto_vf_acc = sum(verify_df['class_boto']==verify_df['class_verified'])/len(verify_df['class_boto'])\n",
    "print ('The accuracy of Botometer in predicting manually verified classification is {:.2f}%.'.format(boto_vf_acc*100))"
   ]
  },
  {
   "cell_type": "code",
   "execution_count": 0,
   "metadata": {
    "colab": {},
    "colab_type": "code",
    "id": "6jMfAvyUkydh",
    "outputId": "2839437b-9cee-45cc-da4b-a1395a5062b0"
   },
   "outputs": [
    {
     "name": "stdout",
     "output_type": "stream",
     "text": [
      "The accuracy of decision tree model (depth=3) in predicting manually verified classification is 42.86%.\n"
     ]
    }
   ],
   "source": [
    "# use features and botometer score to predict the validated score\n",
    "\n",
    "x_train_vf, x_test_vf, y_train_vf, y_test_vf = train_test_split(verify_df[['class_boto', feature_1]], \n",
    "                                                                verify_df['class_verified'], test_size=0.4, random_state=50)\n",
    "\n",
    "dtc_vf = DecisionTreeClassifier(max_depth=2).fit(x_train_vf, y_train_vf)\n",
    "score = dtc_vf.score(x_test_vf, y_test_vf)\n",
    "\n",
    "print(\"The accuracy of decision tree model (depth=3) in predicting manually verified classification is {:.2f}%.\".format(score*100))"
   ]
  },
  {
   "cell_type": "markdown",
   "metadata": {
    "colab_type": "text",
    "id": "-RdVhUzBkydi"
   },
   "source": [
    "[Back to TOC](#TOC) <br/>\n",
    "<a id ='Sentence-Embeddings-Clutering-Neural-Networks'></a>\n",
    "#### 4.15 - Classification of tweets using Sentence Embeddings + Clutering + LDA + Neural Networks\n",
    "\n",
    "Additionally, we want to explore some models on classifying tweets. "
   ]
  },
  {
   "cell_type": "markdown",
   "metadata": {
    "colab_type": "text",
    "id": "nC8p2Ax7kydk"
   },
   "source": [
    "The team wanted to explore for this project how we can read the text tweets to predict whether the tweets are coming from bot or human. First, we found out that the text tweets require data cleansing (by navigating through the tweets). So we took a sample data and performed manual data cleansing by replacing stopwords, special characters, emoji expressions, numbers and we saved the new clean data under cleaned_tweets.txt file. Then we decided to find how the data can be clustered and grouped together, so we have converted textual tweets data into numerical vectors using tensor flow encoder for the conversion and we have used text clustering using K-means (Mini Batch Kmeans). Then we labeled data into two categories (Group A and Group B as Bot and Human), at this stage we didn't manually labeled the data to check which tweets are coming from Bots or human (as this will require checking the records manually), so we just assigned the data to be labeled into two categories randomly as there are only two options a bot or non-bot. Then we build the Classification model using Neural Network on all sample data(Used Keras lib on top of tensor flow) The next step is to test the model on new datasets and checking the tweets content, this model was done to explore new techniques and discuss how we can do NLP on tweets data.\n",
    "\n",
    "word embedding details https://www.tensorflow.org/tutorials/representation/word2vec https://www.tensorflow.org/guide/embedding https://www.fer.unizg.hr/_download/repository/TAR-07-WENN.pdf\n",
    "\n",
    "Clustering https://scikit-learn.org/stable/modules/clustering.html#mini-batch-kmeans https://scikit-learn.org/stable/modules/generated/sklearn.cluster.MiniBatchKMeans.html https://algorithmicthoughts.wordpress.com/2013/07/26/machine-learning-mini-batch-k-means/ https://scikit-learn.org/stable/auto_examples/cluster/plot_mini_batch_kmeans.html\n",
    "\n",
    "Classification http://www.zhanjunlang.com/resources/tutorial/Deep%20Learning%20with%20Keras.pdf https://machinelearningmastery.com/multi-class-classification-tutorial-keras-deep-learning-library/ https://machinelearningmastery.com/binary-classification-tutorial-with-the-keras-deep-learning-library/"
   ]
  },
  {
   "cell_type": "markdown",
   "metadata": {
    "colab_type": "text",
    "id": "LHqa0qjtkydk"
   },
   "source": [
    "# Sentence Embeddings for Clustering"
   ]
  },
  {
   "cell_type": "code",
   "execution_count": 0,
   "metadata": {
    "colab": {},
    "colab_type": "code",
    "id": "OwqbZbjwkydk"
   },
   "outputs": [],
   "source": [
    "# converting textual data into numerical vectors for clustering; we have used tensor flow encoder for the conversion\n",
    "def build_index(embedding_fun, batch_size, sentences):\n",
    "    ann = []\n",
    "    batch_sentences = []\n",
    "    batch_indexes = []\n",
    "    last_indexed = 0\n",
    "    num_batches = 0\n",
    "    with tf.Session() as sess: #starting tensor session \n",
    "        sess.run([tf.global_variables_initializer(), tf.tables_initializer()])\n",
    "        with open('cleaned_tweets.txt', 'r') as fr:\n",
    "            for sindex, sentence in enumerate(fr):\n",
    "                batch_sentences.append(sentence)\n",
    "                batch_indexes.append(sindex)\n",
    "\n",
    "                if len(batch_sentences) == batch_size:\n",
    "                    context_embed = sess.run(embedding_fun, feed_dict={sentences: batch_sentences})\n",
    "                    for index in batch_indexes:\n",
    "                        ann.append(context_embed[index - last_indexed])\n",
    "                        batch_sentences = []\n",
    "                        batch_indexes = []\n",
    "                    last_indexed += batch_size\n",
    "                    num_batches += 1\n",
    "            if batch_sentences:\n",
    "                context_embed = sess.run(embedding_fun, feed_dict={sentences: batch_sentences})\n",
    "                for index in batch_indexes:\n",
    "                    ann.append(context_embed[index - last_indexed])\n",
    "    return ann"
   ]
  },
  {
   "cell_type": "code",
   "execution_count": 0,
   "metadata": {
    "colab": {},
    "colab_type": "code",
    "id": "1YkHRJJ5kydm",
    "outputId": "5abb2d53-53af-43c2-c809-267c16c4d290"
   },
   "outputs": [
    {
     "name": "stdout",
     "output_type": "stream",
     "text": [
      "INFO:tensorflow:Using /var/folders/cd/js4b46vx0rq_2zt5bnm1fblw0000gn/T/tfhub_modules to cache modules.\n",
      "INFO:tensorflow:Saver not created because there are no variables in the graph to restore\n"
     ]
    }
   ],
   "source": [
    "batch_size = 128\n",
    "embed = hub.Module(\"https://tfhub.dev/google/universal-sentence-encoder/2\")\n",
    "sentences = tf.placeholder(dtype=tf.string, shape=[None])\n",
    "embedding_fun = embed(sentences)\n",
    "ann = build_index(embedding_fun, batch_size, sentences)"
   ]
  },
  {
   "cell_type": "markdown",
   "metadata": {
    "colab_type": "text",
    "id": "TtL7qg8Rkydn"
   },
   "source": [
    "# Text Clustering using Kmeans"
   ]
  },
  {
   "cell_type": "code",
   "execution_count": 0,
   "metadata": {
    "colab": {},
    "colab_type": "code",
    "id": "GS_a3BHAkydn"
   },
   "outputs": [],
   "source": [
    "#We used Kmeans for clustering the data because data is not labeled \n",
    "from sklearn.cluster import MiniBatchKMeans\n",
    "no_clus = 2"
   ]
  },
  {
   "cell_type": "code",
   "execution_count": 0,
   "metadata": {
    "colab": {},
    "colab_type": "code",
    "id": "_jsys8Kkkydr"
   },
   "outputs": [],
   "source": [
    "km = MiniBatchKMeans(n_clusters=no_clus, random_state=0, batch_size=1000)\n",
    "km = km.fit(ann)"
   ]
  },
  {
   "cell_type": "code",
   "execution_count": 0,
   "metadata": {
    "colab": {},
    "colab_type": "code",
    "id": "z6bU2L3ikyds"
   },
   "outputs": [],
   "source": [
    "label_ = km.predict(ann)"
   ]
  },
  {
   "cell_type": "markdown",
   "metadata": {
    "colab_type": "text",
    "id": "KMdt95t7kydu"
   },
   "source": [
    "# Labels Choosen after Cluster Analysis"
   ]
  },
  {
   "cell_type": "code",
   "execution_count": 0,
   "metadata": {
    "colab": {},
    "colab_type": "code",
    "id": "lMY_USwhkydv"
   },
   "outputs": [],
   "source": [
    "#we can give other labels to tweets after analysing the data but right now our motive is to identify bot & non-bots tweets.\n",
    "label = [\"human\",\"bot\"]"
   ]
  },
  {
   "cell_type": "markdown",
   "metadata": {
    "colab_type": "text",
    "id": "Eg_q5mdRkydx"
   },
   "source": [
    "# Data Preperation for Training Neural Network"
   ]
  },
  {
   "cell_type": "code",
   "execution_count": 0,
   "metadata": {
    "colab": {},
    "colab_type": "code",
    "id": "Ou6R6Xkqkydx",
    "outputId": "a1cc0351-7b19-41f3-aa75-cfe2f75618d7"
   },
   "outputs": [
    {
     "data": {
      "text/html": [
       "<div>\n",
       "<style scoped>\n",
       "    .dataframe tbody tr th:only-of-type {\n",
       "        vertical-align: middle;\n",
       "    }\n",
       "\n",
       "    .dataframe tbody tr th {\n",
       "        vertical-align: top;\n",
       "    }\n",
       "\n",
       "    .dataframe thead th {\n",
       "        text-align: right;\n",
       "    }\n",
       "</style>\n",
       "<table border=\"1\" class=\"dataframe\">\n",
       "  <thead>\n",
       "    <tr style=\"text-align: right;\">\n",
       "      <th></th>\n",
       "      <th>0</th>\n",
       "      <th>1</th>\n",
       "      <th>2</th>\n",
       "      <th>3</th>\n",
       "      <th>4</th>\n",
       "      <th>5</th>\n",
       "      <th>6</th>\n",
       "      <th>7</th>\n",
       "      <th>8</th>\n",
       "      <th>9</th>\n",
       "      <th>10</th>\n",
       "      <th>11</th>\n",
       "      <th>12</th>\n",
       "      <th>13</th>\n",
       "      <th>14</th>\n",
       "      <th>15</th>\n",
       "      <th>16</th>\n",
       "      <th>17</th>\n",
       "      <th>18</th>\n",
       "      <th>19</th>\n",
       "      <th>20</th>\n",
       "      <th>21</th>\n",
       "      <th>22</th>\n",
       "      <th>23</th>\n",
       "      <th>24</th>\n",
       "      <th>25</th>\n",
       "      <th>26</th>\n",
       "      <th>27</th>\n",
       "      <th>28</th>\n",
       "      <th>29</th>\n",
       "      <th>30</th>\n",
       "      <th>31</th>\n",
       "      <th>32</th>\n",
       "      <th>33</th>\n",
       "      <th>34</th>\n",
       "      <th>35</th>\n",
       "      <th>36</th>\n",
       "      <th>37</th>\n",
       "      <th>38</th>\n",
       "      <th>39</th>\n",
       "      <th>40</th>\n",
       "      <th>41</th>\n",
       "      <th>42</th>\n",
       "      <th>43</th>\n",
       "      <th>44</th>\n",
       "      <th>45</th>\n",
       "      <th>46</th>\n",
       "      <th>47</th>\n",
       "      <th>48</th>\n",
       "      <th>49</th>\n",
       "      <th>...</th>\n",
       "      <th>463</th>\n",
       "      <th>464</th>\n",
       "      <th>465</th>\n",
       "      <th>466</th>\n",
       "      <th>467</th>\n",
       "      <th>468</th>\n",
       "      <th>469</th>\n",
       "      <th>470</th>\n",
       "      <th>471</th>\n",
       "      <th>472</th>\n",
       "      <th>473</th>\n",
       "      <th>474</th>\n",
       "      <th>475</th>\n",
       "      <th>476</th>\n",
       "      <th>477</th>\n",
       "      <th>478</th>\n",
       "      <th>479</th>\n",
       "      <th>480</th>\n",
       "      <th>481</th>\n",
       "      <th>482</th>\n",
       "      <th>483</th>\n",
       "      <th>484</th>\n",
       "      <th>485</th>\n",
       "      <th>486</th>\n",
       "      <th>487</th>\n",
       "      <th>488</th>\n",
       "      <th>489</th>\n",
       "      <th>490</th>\n",
       "      <th>491</th>\n",
       "      <th>492</th>\n",
       "      <th>493</th>\n",
       "      <th>494</th>\n",
       "      <th>495</th>\n",
       "      <th>496</th>\n",
       "      <th>497</th>\n",
       "      <th>498</th>\n",
       "      <th>499</th>\n",
       "      <th>500</th>\n",
       "      <th>501</th>\n",
       "      <th>502</th>\n",
       "      <th>503</th>\n",
       "      <th>504</th>\n",
       "      <th>505</th>\n",
       "      <th>506</th>\n",
       "      <th>507</th>\n",
       "      <th>508</th>\n",
       "      <th>509</th>\n",
       "      <th>510</th>\n",
       "      <th>511</th>\n",
       "      <th>label</th>\n",
       "    </tr>\n",
       "  </thead>\n",
       "  <tbody>\n",
       "    <tr>\n",
       "      <th>0</th>\n",
       "      <td>0.014465</td>\n",
       "      <td>-0.041160</td>\n",
       "      <td>-0.080382</td>\n",
       "      <td>0.049232</td>\n",
       "      <td>-0.072470</td>\n",
       "      <td>0.035281</td>\n",
       "      <td>-0.007432</td>\n",
       "      <td>-0.023164</td>\n",
       "      <td>-0.016499</td>\n",
       "      <td>0.059375</td>\n",
       "      <td>0.011128</td>\n",
       "      <td>-0.072195</td>\n",
       "      <td>0.001333</td>\n",
       "      <td>0.081120</td>\n",
       "      <td>-0.043538</td>\n",
       "      <td>0.025982</td>\n",
       "      <td>-0.008040</td>\n",
       "      <td>0.008672</td>\n",
       "      <td>0.046465</td>\n",
       "      <td>-0.041111</td>\n",
       "      <td>0.019693</td>\n",
       "      <td>-0.054316</td>\n",
       "      <td>-0.037432</td>\n",
       "      <td>-0.049775</td>\n",
       "      <td>0.043199</td>\n",
       "      <td>-0.082781</td>\n",
       "      <td>0.022100</td>\n",
       "      <td>-0.055881</td>\n",
       "      <td>0.000243</td>\n",
       "      <td>-0.039490</td>\n",
       "      <td>0.046346</td>\n",
       "      <td>0.045277</td>\n",
       "      <td>0.063884</td>\n",
       "      <td>-0.049139</td>\n",
       "      <td>0.046108</td>\n",
       "      <td>0.046417</td>\n",
       "      <td>0.068380</td>\n",
       "      <td>0.010075</td>\n",
       "      <td>-0.024406</td>\n",
       "      <td>0.054736</td>\n",
       "      <td>0.036027</td>\n",
       "      <td>-0.079516</td>\n",
       "      <td>-0.016540</td>\n",
       "      <td>-0.013671</td>\n",
       "      <td>0.029925</td>\n",
       "      <td>0.019939</td>\n",
       "      <td>0.012983</td>\n",
       "      <td>0.008551</td>\n",
       "      <td>-0.080187</td>\n",
       "      <td>-0.033431</td>\n",
       "      <td>...</td>\n",
       "      <td>0.042374</td>\n",
       "      <td>0.012550</td>\n",
       "      <td>-0.021070</td>\n",
       "      <td>-0.028898</td>\n",
       "      <td>0.041150</td>\n",
       "      <td>-0.040165</td>\n",
       "      <td>-0.015725</td>\n",
       "      <td>-0.064446</td>\n",
       "      <td>-0.043480</td>\n",
       "      <td>-0.038069</td>\n",
       "      <td>0.054859</td>\n",
       "      <td>0.071981</td>\n",
       "      <td>0.059431</td>\n",
       "      <td>-0.059622</td>\n",
       "      <td>0.057350</td>\n",
       "      <td>-0.028784</td>\n",
       "      <td>-0.012592</td>\n",
       "      <td>0.047343</td>\n",
       "      <td>-0.042691</td>\n",
       "      <td>-0.018448</td>\n",
       "      <td>-0.047661</td>\n",
       "      <td>0.018976</td>\n",
       "      <td>-0.020382</td>\n",
       "      <td>-0.007089</td>\n",
       "      <td>0.055725</td>\n",
       "      <td>-0.066460</td>\n",
       "      <td>0.044143</td>\n",
       "      <td>-0.032896</td>\n",
       "      <td>-0.035257</td>\n",
       "      <td>0.045124</td>\n",
       "      <td>-0.077788</td>\n",
       "      <td>0.009261</td>\n",
       "      <td>0.051502</td>\n",
       "      <td>-0.002606</td>\n",
       "      <td>-0.037444</td>\n",
       "      <td>0.028699</td>\n",
       "      <td>0.008687</td>\n",
       "      <td>0.048924</td>\n",
       "      <td>-0.060097</td>\n",
       "      <td>0.011616</td>\n",
       "      <td>-0.043432</td>\n",
       "      <td>-0.057813</td>\n",
       "      <td>0.023498</td>\n",
       "      <td>0.029007</td>\n",
       "      <td>-0.057199</td>\n",
       "      <td>0.033862</td>\n",
       "      <td>0.034509</td>\n",
       "      <td>-0.051691</td>\n",
       "      <td>-0.068487</td>\n",
       "      <td>human</td>\n",
       "    </tr>\n",
       "    <tr>\n",
       "      <th>1</th>\n",
       "      <td>-0.004159</td>\n",
       "      <td>0.037407</td>\n",
       "      <td>0.010676</td>\n",
       "      <td>0.051571</td>\n",
       "      <td>-0.082445</td>\n",
       "      <td>0.042067</td>\n",
       "      <td>0.085635</td>\n",
       "      <td>-0.068073</td>\n",
       "      <td>0.008043</td>\n",
       "      <td>-0.057601</td>\n",
       "      <td>-0.010396</td>\n",
       "      <td>0.061897</td>\n",
       "      <td>0.026388</td>\n",
       "      <td>-0.039207</td>\n",
       "      <td>-0.081150</td>\n",
       "      <td>0.062177</td>\n",
       "      <td>-0.025542</td>\n",
       "      <td>-0.005056</td>\n",
       "      <td>-0.055322</td>\n",
       "      <td>0.058100</td>\n",
       "      <td>0.018608</td>\n",
       "      <td>-0.029878</td>\n",
       "      <td>-0.078493</td>\n",
       "      <td>0.080863</td>\n",
       "      <td>-0.065654</td>\n",
       "      <td>0.068974</td>\n",
       "      <td>0.002821</td>\n",
       "      <td>-0.040240</td>\n",
       "      <td>0.057693</td>\n",
       "      <td>-0.048370</td>\n",
       "      <td>0.068685</td>\n",
       "      <td>-0.000077</td>\n",
       "      <td>-0.000213</td>\n",
       "      <td>0.063530</td>\n",
       "      <td>-0.031372</td>\n",
       "      <td>0.023782</td>\n",
       "      <td>-0.004415</td>\n",
       "      <td>-0.041821</td>\n",
       "      <td>0.007741</td>\n",
       "      <td>0.023710</td>\n",
       "      <td>0.070109</td>\n",
       "      <td>0.032692</td>\n",
       "      <td>0.002921</td>\n",
       "      <td>0.077430</td>\n",
       "      <td>-0.029552</td>\n",
       "      <td>0.048876</td>\n",
       "      <td>0.016704</td>\n",
       "      <td>0.049636</td>\n",
       "      <td>-0.067951</td>\n",
       "      <td>-0.050462</td>\n",
       "      <td>...</td>\n",
       "      <td>0.040322</td>\n",
       "      <td>0.027861</td>\n",
       "      <td>-0.008080</td>\n",
       "      <td>0.063199</td>\n",
       "      <td>0.044135</td>\n",
       "      <td>-0.052681</td>\n",
       "      <td>0.019565</td>\n",
       "      <td>0.064226</td>\n",
       "      <td>-0.048641</td>\n",
       "      <td>0.044495</td>\n",
       "      <td>-0.069249</td>\n",
       "      <td>0.004205</td>\n",
       "      <td>0.056537</td>\n",
       "      <td>-0.052674</td>\n",
       "      <td>0.081130</td>\n",
       "      <td>0.020684</td>\n",
       "      <td>0.035940</td>\n",
       "      <td>-0.068895</td>\n",
       "      <td>-0.037510</td>\n",
       "      <td>-0.047443</td>\n",
       "      <td>-0.072809</td>\n",
       "      <td>-0.046582</td>\n",
       "      <td>0.025906</td>\n",
       "      <td>0.014971</td>\n",
       "      <td>0.067606</td>\n",
       "      <td>-0.063587</td>\n",
       "      <td>-0.019536</td>\n",
       "      <td>-0.028843</td>\n",
       "      <td>0.056103</td>\n",
       "      <td>0.070734</td>\n",
       "      <td>-0.072800</td>\n",
       "      <td>0.061065</td>\n",
       "      <td>0.006131</td>\n",
       "      <td>0.008708</td>\n",
       "      <td>-0.019813</td>\n",
       "      <td>-0.031101</td>\n",
       "      <td>0.063472</td>\n",
       "      <td>0.022468</td>\n",
       "      <td>-0.003953</td>\n",
       "      <td>0.034237</td>\n",
       "      <td>-0.014825</td>\n",
       "      <td>0.083977</td>\n",
       "      <td>-0.041056</td>\n",
       "      <td>0.074752</td>\n",
       "      <td>-0.062685</td>\n",
       "      <td>0.030684</td>\n",
       "      <td>-0.066145</td>\n",
       "      <td>-0.046920</td>\n",
       "      <td>-0.046959</td>\n",
       "      <td>human</td>\n",
       "    </tr>\n",
       "    <tr>\n",
       "      <th>2</th>\n",
       "      <td>0.018760</td>\n",
       "      <td>0.017700</td>\n",
       "      <td>-0.001465</td>\n",
       "      <td>0.026475</td>\n",
       "      <td>-0.065444</td>\n",
       "      <td>0.055917</td>\n",
       "      <td>0.083909</td>\n",
       "      <td>-0.037637</td>\n",
       "      <td>-0.067772</td>\n",
       "      <td>0.003231</td>\n",
       "      <td>0.060457</td>\n",
       "      <td>0.075828</td>\n",
       "      <td>-0.035041</td>\n",
       "      <td>0.030025</td>\n",
       "      <td>-0.081898</td>\n",
       "      <td>0.017239</td>\n",
       "      <td>-0.062100</td>\n",
       "      <td>0.069808</td>\n",
       "      <td>0.033860</td>\n",
       "      <td>-0.009992</td>\n",
       "      <td>0.061071</td>\n",
       "      <td>-0.034434</td>\n",
       "      <td>-0.062524</td>\n",
       "      <td>0.046930</td>\n",
       "      <td>-0.012984</td>\n",
       "      <td>-0.020368</td>\n",
       "      <td>-0.077449</td>\n",
       "      <td>-0.030762</td>\n",
       "      <td>0.012479</td>\n",
       "      <td>0.034478</td>\n",
       "      <td>0.067442</td>\n",
       "      <td>-0.028413</td>\n",
       "      <td>-0.029516</td>\n",
       "      <td>0.003395</td>\n",
       "      <td>-0.059197</td>\n",
       "      <td>0.062458</td>\n",
       "      <td>0.073726</td>\n",
       "      <td>-0.021924</td>\n",
       "      <td>-0.060282</td>\n",
       "      <td>-0.040060</td>\n",
       "      <td>0.015813</td>\n",
       "      <td>0.018026</td>\n",
       "      <td>0.025038</td>\n",
       "      <td>0.071120</td>\n",
       "      <td>-0.024542</td>\n",
       "      <td>0.010045</td>\n",
       "      <td>-0.029734</td>\n",
       "      <td>0.045184</td>\n",
       "      <td>-0.013265</td>\n",
       "      <td>-0.070352</td>\n",
       "      <td>...</td>\n",
       "      <td>-0.028412</td>\n",
       "      <td>-0.017237</td>\n",
       "      <td>0.011519</td>\n",
       "      <td>0.030776</td>\n",
       "      <td>0.001742</td>\n",
       "      <td>-0.027445</td>\n",
       "      <td>0.077707</td>\n",
       "      <td>0.045478</td>\n",
       "      <td>-0.061658</td>\n",
       "      <td>-0.033477</td>\n",
       "      <td>0.001959</td>\n",
       "      <td>0.028779</td>\n",
       "      <td>0.007566</td>\n",
       "      <td>-0.056936</td>\n",
       "      <td>0.026699</td>\n",
       "      <td>-0.032550</td>\n",
       "      <td>-0.059910</td>\n",
       "      <td>-0.080014</td>\n",
       "      <td>0.006620</td>\n",
       "      <td>0.053456</td>\n",
       "      <td>-0.069313</td>\n",
       "      <td>-0.069715</td>\n",
       "      <td>0.013956</td>\n",
       "      <td>-0.007759</td>\n",
       "      <td>0.058094</td>\n",
       "      <td>-0.011070</td>\n",
       "      <td>0.051757</td>\n",
       "      <td>0.006790</td>\n",
       "      <td>0.052903</td>\n",
       "      <td>0.005722</td>\n",
       "      <td>-0.009652</td>\n",
       "      <td>0.057129</td>\n",
       "      <td>0.016612</td>\n",
       "      <td>-0.002932</td>\n",
       "      <td>-0.079768</td>\n",
       "      <td>0.062508</td>\n",
       "      <td>0.038955</td>\n",
       "      <td>0.049365</td>\n",
       "      <td>-0.052527</td>\n",
       "      <td>-0.017487</td>\n",
       "      <td>-0.031634</td>\n",
       "      <td>0.030714</td>\n",
       "      <td>-0.059589</td>\n",
       "      <td>0.066754</td>\n",
       "      <td>-0.033562</td>\n",
       "      <td>0.026823</td>\n",
       "      <td>0.054268</td>\n",
       "      <td>-0.023460</td>\n",
       "      <td>-0.019951</td>\n",
       "      <td>human</td>\n",
       "    </tr>\n",
       "    <tr>\n",
       "      <th>3</th>\n",
       "      <td>0.061679</td>\n",
       "      <td>0.001478</td>\n",
       "      <td>0.031168</td>\n",
       "      <td>0.022693</td>\n",
       "      <td>-0.015502</td>\n",
       "      <td>0.021912</td>\n",
       "      <td>-0.052999</td>\n",
       "      <td>0.000949</td>\n",
       "      <td>-0.068597</td>\n",
       "      <td>0.030209</td>\n",
       "      <td>0.008987</td>\n",
       "      <td>-0.029433</td>\n",
       "      <td>0.011550</td>\n",
       "      <td>-0.020340</td>\n",
       "      <td>-0.031608</td>\n",
       "      <td>0.073531</td>\n",
       "      <td>-0.025333</td>\n",
       "      <td>-0.004687</td>\n",
       "      <td>-0.054933</td>\n",
       "      <td>-0.007605</td>\n",
       "      <td>-0.055760</td>\n",
       "      <td>-0.024632</td>\n",
       "      <td>-0.059326</td>\n",
       "      <td>0.062436</td>\n",
       "      <td>0.032248</td>\n",
       "      <td>0.062266</td>\n",
       "      <td>-0.002961</td>\n",
       "      <td>-0.088176</td>\n",
       "      <td>0.031939</td>\n",
       "      <td>-0.036887</td>\n",
       "      <td>0.005734</td>\n",
       "      <td>-0.023288</td>\n",
       "      <td>0.081136</td>\n",
       "      <td>-0.004106</td>\n",
       "      <td>-0.033513</td>\n",
       "      <td>-0.009084</td>\n",
       "      <td>0.030620</td>\n",
       "      <td>0.043523</td>\n",
       "      <td>0.053875</td>\n",
       "      <td>-0.028582</td>\n",
       "      <td>0.023576</td>\n",
       "      <td>0.021544</td>\n",
       "      <td>0.060563</td>\n",
       "      <td>0.007828</td>\n",
       "      <td>0.023314</td>\n",
       "      <td>-0.045387</td>\n",
       "      <td>-0.053455</td>\n",
       "      <td>0.035316</td>\n",
       "      <td>0.054424</td>\n",
       "      <td>0.004902</td>\n",
       "      <td>...</td>\n",
       "      <td>0.014024</td>\n",
       "      <td>0.060987</td>\n",
       "      <td>0.059613</td>\n",
       "      <td>0.057116</td>\n",
       "      <td>-0.012657</td>\n",
       "      <td>0.040048</td>\n",
       "      <td>0.064219</td>\n",
       "      <td>0.037523</td>\n",
       "      <td>0.028764</td>\n",
       "      <td>-0.028689</td>\n",
       "      <td>0.088758</td>\n",
       "      <td>-0.001394</td>\n",
       "      <td>0.075421</td>\n",
       "      <td>-0.087056</td>\n",
       "      <td>0.040511</td>\n",
       "      <td>0.039444</td>\n",
       "      <td>-0.060023</td>\n",
       "      <td>-0.029292</td>\n",
       "      <td>-0.051675</td>\n",
       "      <td>0.021379</td>\n",
       "      <td>-0.079976</td>\n",
       "      <td>0.030407</td>\n",
       "      <td>-0.033485</td>\n",
       "      <td>0.000740</td>\n",
       "      <td>-0.028985</td>\n",
       "      <td>-0.073933</td>\n",
       "      <td>-0.022529</td>\n",
       "      <td>0.036499</td>\n",
       "      <td>0.049380</td>\n",
       "      <td>0.071529</td>\n",
       "      <td>0.007678</td>\n",
       "      <td>0.055372</td>\n",
       "      <td>0.020072</td>\n",
       "      <td>0.001890</td>\n",
       "      <td>0.043390</td>\n",
       "      <td>0.015330</td>\n",
       "      <td>-0.011553</td>\n",
       "      <td>0.066848</td>\n",
       "      <td>0.003082</td>\n",
       "      <td>-0.007621</td>\n",
       "      <td>-0.024629</td>\n",
       "      <td>0.038945</td>\n",
       "      <td>-0.084256</td>\n",
       "      <td>-0.020659</td>\n",
       "      <td>-0.046709</td>\n",
       "      <td>0.087554</td>\n",
       "      <td>0.070257</td>\n",
       "      <td>-0.096228</td>\n",
       "      <td>0.002832</td>\n",
       "      <td>human</td>\n",
       "    </tr>\n",
       "    <tr>\n",
       "      <th>4</th>\n",
       "      <td>0.046772</td>\n",
       "      <td>0.025765</td>\n",
       "      <td>0.018090</td>\n",
       "      <td>-0.011639</td>\n",
       "      <td>-0.080991</td>\n",
       "      <td>-0.020765</td>\n",
       "      <td>0.075177</td>\n",
       "      <td>-0.056908</td>\n",
       "      <td>0.006270</td>\n",
       "      <td>-0.006358</td>\n",
       "      <td>0.063727</td>\n",
       "      <td>0.061065</td>\n",
       "      <td>-0.039870</td>\n",
       "      <td>0.057956</td>\n",
       "      <td>0.046617</td>\n",
       "      <td>0.034687</td>\n",
       "      <td>-0.024982</td>\n",
       "      <td>-0.011706</td>\n",
       "      <td>0.037853</td>\n",
       "      <td>0.041801</td>\n",
       "      <td>0.043793</td>\n",
       "      <td>-0.026953</td>\n",
       "      <td>-0.047420</td>\n",
       "      <td>0.009063</td>\n",
       "      <td>-0.067187</td>\n",
       "      <td>0.021363</td>\n",
       "      <td>-0.057976</td>\n",
       "      <td>-0.018172</td>\n",
       "      <td>0.052888</td>\n",
       "      <td>-0.005593</td>\n",
       "      <td>0.073312</td>\n",
       "      <td>0.066153</td>\n",
       "      <td>0.057724</td>\n",
       "      <td>-0.018811</td>\n",
       "      <td>0.027091</td>\n",
       "      <td>-0.039104</td>\n",
       "      <td>-0.037468</td>\n",
       "      <td>-0.049329</td>\n",
       "      <td>0.046349</td>\n",
       "      <td>-0.044057</td>\n",
       "      <td>0.016623</td>\n",
       "      <td>0.005787</td>\n",
       "      <td>0.011761</td>\n",
       "      <td>0.036444</td>\n",
       "      <td>-0.048685</td>\n",
       "      <td>-0.005705</td>\n",
       "      <td>0.039632</td>\n",
       "      <td>0.002725</td>\n",
       "      <td>-0.009126</td>\n",
       "      <td>0.029212</td>\n",
       "      <td>...</td>\n",
       "      <td>0.062085</td>\n",
       "      <td>0.034350</td>\n",
       "      <td>0.026678</td>\n",
       "      <td>0.069446</td>\n",
       "      <td>-0.046912</td>\n",
       "      <td>-0.040991</td>\n",
       "      <td>-0.004489</td>\n",
       "      <td>0.060533</td>\n",
       "      <td>-0.067664</td>\n",
       "      <td>-0.064948</td>\n",
       "      <td>0.079440</td>\n",
       "      <td>0.050857</td>\n",
       "      <td>-0.013103</td>\n",
       "      <td>-0.070723</td>\n",
       "      <td>0.065417</td>\n",
       "      <td>-0.059853</td>\n",
       "      <td>-0.023149</td>\n",
       "      <td>0.061218</td>\n",
       "      <td>-0.066777</td>\n",
       "      <td>0.029265</td>\n",
       "      <td>-0.078627</td>\n",
       "      <td>-0.026768</td>\n",
       "      <td>0.059218</td>\n",
       "      <td>0.033352</td>\n",
       "      <td>-0.010272</td>\n",
       "      <td>-0.056246</td>\n",
       "      <td>-0.026515</td>\n",
       "      <td>-0.054604</td>\n",
       "      <td>0.047835</td>\n",
       "      <td>0.002972</td>\n",
       "      <td>0.072556</td>\n",
       "      <td>0.026290</td>\n",
       "      <td>0.051406</td>\n",
       "      <td>0.065368</td>\n",
       "      <td>-0.066754</td>\n",
       "      <td>-0.068543</td>\n",
       "      <td>0.072629</td>\n",
       "      <td>0.051849</td>\n",
       "      <td>-0.035418</td>\n",
       "      <td>-0.037926</td>\n",
       "      <td>-0.032357</td>\n",
       "      <td>0.079559</td>\n",
       "      <td>-0.042057</td>\n",
       "      <td>-0.025956</td>\n",
       "      <td>-0.064477</td>\n",
       "      <td>0.039704</td>\n",
       "      <td>0.052853</td>\n",
       "      <td>-0.071350</td>\n",
       "      <td>0.026886</td>\n",
       "      <td>human</td>\n",
       "    </tr>\n",
       "  </tbody>\n",
       "</table>\n",
       "<p>5 rows × 513 columns</p>\n",
       "</div>"
      ],
      "text/plain": [
       "          0         1         2         3         4         5         6         7         8         9        10        11        12        13        14        15        16        17        18        19        20        21        22        23        24        25        26        27        28        29        30        31        32        33        34        35        36        37        38        39        40        41        42        43        44        45        46        47        48        49  ...         463       464       465       466       467       468       469       470       471       472       473       474       475       476       477       478       479       480       481       482       483       484       485       486       487       488       489       490       491       492       493       494       495       496       497       498       499       500       501       502       503       504       505       506       507       508       509       510       511  label\n",
       "0  0.014465 -0.041160 -0.080382  0.049232 -0.072470  0.035281 -0.007432 -0.023164 -0.016499  0.059375  0.011128 -0.072195  0.001333  0.081120 -0.043538  0.025982 -0.008040  0.008672  0.046465 -0.041111  0.019693 -0.054316 -0.037432 -0.049775  0.043199 -0.082781  0.022100 -0.055881  0.000243 -0.039490  0.046346  0.045277  0.063884 -0.049139  0.046108  0.046417  0.068380  0.010075 -0.024406  0.054736  0.036027 -0.079516 -0.016540 -0.013671  0.029925  0.019939  0.012983  0.008551 -0.080187 -0.033431  ...    0.042374  0.012550 -0.021070 -0.028898  0.041150 -0.040165 -0.015725 -0.064446 -0.043480 -0.038069  0.054859  0.071981  0.059431 -0.059622  0.057350 -0.028784 -0.012592  0.047343 -0.042691 -0.018448 -0.047661  0.018976 -0.020382 -0.007089  0.055725 -0.066460  0.044143 -0.032896 -0.035257  0.045124 -0.077788  0.009261  0.051502 -0.002606 -0.037444  0.028699  0.008687  0.048924 -0.060097  0.011616 -0.043432 -0.057813  0.023498  0.029007 -0.057199  0.033862  0.034509 -0.051691 -0.068487  human\n",
       "1 -0.004159  0.037407  0.010676  0.051571 -0.082445  0.042067  0.085635 -0.068073  0.008043 -0.057601 -0.010396  0.061897  0.026388 -0.039207 -0.081150  0.062177 -0.025542 -0.005056 -0.055322  0.058100  0.018608 -0.029878 -0.078493  0.080863 -0.065654  0.068974  0.002821 -0.040240  0.057693 -0.048370  0.068685 -0.000077 -0.000213  0.063530 -0.031372  0.023782 -0.004415 -0.041821  0.007741  0.023710  0.070109  0.032692  0.002921  0.077430 -0.029552  0.048876  0.016704  0.049636 -0.067951 -0.050462  ...    0.040322  0.027861 -0.008080  0.063199  0.044135 -0.052681  0.019565  0.064226 -0.048641  0.044495 -0.069249  0.004205  0.056537 -0.052674  0.081130  0.020684  0.035940 -0.068895 -0.037510 -0.047443 -0.072809 -0.046582  0.025906  0.014971  0.067606 -0.063587 -0.019536 -0.028843  0.056103  0.070734 -0.072800  0.061065  0.006131  0.008708 -0.019813 -0.031101  0.063472  0.022468 -0.003953  0.034237 -0.014825  0.083977 -0.041056  0.074752 -0.062685  0.030684 -0.066145 -0.046920 -0.046959  human\n",
       "2  0.018760  0.017700 -0.001465  0.026475 -0.065444  0.055917  0.083909 -0.037637 -0.067772  0.003231  0.060457  0.075828 -0.035041  0.030025 -0.081898  0.017239 -0.062100  0.069808  0.033860 -0.009992  0.061071 -0.034434 -0.062524  0.046930 -0.012984 -0.020368 -0.077449 -0.030762  0.012479  0.034478  0.067442 -0.028413 -0.029516  0.003395 -0.059197  0.062458  0.073726 -0.021924 -0.060282 -0.040060  0.015813  0.018026  0.025038  0.071120 -0.024542  0.010045 -0.029734  0.045184 -0.013265 -0.070352  ...   -0.028412 -0.017237  0.011519  0.030776  0.001742 -0.027445  0.077707  0.045478 -0.061658 -0.033477  0.001959  0.028779  0.007566 -0.056936  0.026699 -0.032550 -0.059910 -0.080014  0.006620  0.053456 -0.069313 -0.069715  0.013956 -0.007759  0.058094 -0.011070  0.051757  0.006790  0.052903  0.005722 -0.009652  0.057129  0.016612 -0.002932 -0.079768  0.062508  0.038955  0.049365 -0.052527 -0.017487 -0.031634  0.030714 -0.059589  0.066754 -0.033562  0.026823  0.054268 -0.023460 -0.019951  human\n",
       "3  0.061679  0.001478  0.031168  0.022693 -0.015502  0.021912 -0.052999  0.000949 -0.068597  0.030209  0.008987 -0.029433  0.011550 -0.020340 -0.031608  0.073531 -0.025333 -0.004687 -0.054933 -0.007605 -0.055760 -0.024632 -0.059326  0.062436  0.032248  0.062266 -0.002961 -0.088176  0.031939 -0.036887  0.005734 -0.023288  0.081136 -0.004106 -0.033513 -0.009084  0.030620  0.043523  0.053875 -0.028582  0.023576  0.021544  0.060563  0.007828  0.023314 -0.045387 -0.053455  0.035316  0.054424  0.004902  ...    0.014024  0.060987  0.059613  0.057116 -0.012657  0.040048  0.064219  0.037523  0.028764 -0.028689  0.088758 -0.001394  0.075421 -0.087056  0.040511  0.039444 -0.060023 -0.029292 -0.051675  0.021379 -0.079976  0.030407 -0.033485  0.000740 -0.028985 -0.073933 -0.022529  0.036499  0.049380  0.071529  0.007678  0.055372  0.020072  0.001890  0.043390  0.015330 -0.011553  0.066848  0.003082 -0.007621 -0.024629  0.038945 -0.084256 -0.020659 -0.046709  0.087554  0.070257 -0.096228  0.002832  human\n",
       "4  0.046772  0.025765  0.018090 -0.011639 -0.080991 -0.020765  0.075177 -0.056908  0.006270 -0.006358  0.063727  0.061065 -0.039870  0.057956  0.046617  0.034687 -0.024982 -0.011706  0.037853  0.041801  0.043793 -0.026953 -0.047420  0.009063 -0.067187  0.021363 -0.057976 -0.018172  0.052888 -0.005593  0.073312  0.066153  0.057724 -0.018811  0.027091 -0.039104 -0.037468 -0.049329  0.046349 -0.044057  0.016623  0.005787  0.011761  0.036444 -0.048685 -0.005705  0.039632  0.002725 -0.009126  0.029212  ...    0.062085  0.034350  0.026678  0.069446 -0.046912 -0.040991 -0.004489  0.060533 -0.067664 -0.064948  0.079440  0.050857 -0.013103 -0.070723  0.065417 -0.059853 -0.023149  0.061218 -0.066777  0.029265 -0.078627 -0.026768  0.059218  0.033352 -0.010272 -0.056246 -0.026515 -0.054604  0.047835  0.002972  0.072556  0.026290  0.051406  0.065368 -0.066754 -0.068543  0.072629  0.051849 -0.035418 -0.037926 -0.032357  0.079559 -0.042057 -0.025956 -0.064477  0.039704  0.052853 -0.071350  0.026886  human\n",
       "\n",
       "[5 rows x 513 columns]"
      ]
     },
     "execution_count": 72,
     "metadata": {
      "tags": []
     },
     "output_type": "execute_result"
    }
   ],
   "source": [
    "#preparing the model fior neural netwwork\n",
    "ds = pd.DataFrame()\n",
    "for j in range(0,no_clus):\n",
    "    temp = pd.DataFrame()\n",
    "    temp = pd.DataFrame(np.array(ann)[np.where(label_ == j)[0]])\n",
    "    temp['label'] = (label[j])\n",
    "    ds = pd.concat((ds,temp), ignore_index = True)\n",
    "ds.head() "
   ]
  },
  {
   "cell_type": "code",
   "execution_count": 0,
   "metadata": {
    "colab": {},
    "colab_type": "code",
    "id": "i5yxz3wlkydy"
   },
   "outputs": [],
   "source": [
    "label_c = len(ds.label.unique())"
   ]
  },
  {
   "cell_type": "code",
   "execution_count": 0,
   "metadata": {
    "colab": {},
    "colab_type": "code",
    "id": "OoB1REEXkyd0",
    "outputId": "94077c2c-5415-40c0-f54d-1dcdd2c56bfa"
   },
   "outputs": [
    {
     "data": {
      "text/plain": [
       "array(['bot', 'human'], dtype=object)"
      ]
     },
     "execution_count": 74,
     "metadata": {
      "tags": []
     },
     "output_type": "execute_result"
    }
   ],
   "source": [
    "# encode class values as integers\n",
    "encoder = LabelEncoder()\n",
    "encoder.fit(ds.label)\n",
    "encoded_Y = encoder.transform(ds.label)\n",
    "# convert integers to dummy variables (i.e. one hot encoded)\n",
    "dummy_y = np_utils.to_categorical(encoded_Y)\n",
    "X = ds.drop('label',axis=1)\n",
    "\n",
    "encoder.classes_"
   ]
  },
  {
   "cell_type": "code",
   "execution_count": 0,
   "metadata": {
    "colab": {},
    "colab_type": "code",
    "id": "VKEe05wqkyd1"
   },
   "outputs": [],
   "source": [
    "import pickle\n",
    "def save_object(obj, filename):\n",
    "    with open(filename, 'wb') as output:  # Overwrites any existing file.\n",
    "        pickle.dump(obj, output, pickle.HIGHEST_PROTOCOL)\n",
    "save_object(encoder,\"encoder.pkl\")"
   ]
  },
  {
   "cell_type": "markdown",
   "metadata": {
    "colab_type": "text",
    "id": "_nE20HGdkyd2"
   },
   "source": [
    "## NN-Architecture for Multi-Class classification  and Training "
   ]
  },
  {
   "cell_type": "code",
   "execution_count": 0,
   "metadata": {
    "colab": {},
    "colab_type": "code",
    "id": "uIgADwsZkyd4",
    "outputId": "52a7cea0-4f5f-4ad7-eb29-5eb335e2f490"
   },
   "outputs": [
    {
     "name": "stdout",
     "output_type": "stream",
     "text": [
      "Train on 5241 samples, validate on 926 samples\n",
      "Epoch 1/15\n",
      " - 4s - loss: 0.3245 - acc: 0.9454 - val_loss: 0.0410 - val_acc: 0.9838\n",
      "Epoch 2/15\n",
      " - 0s - loss: 0.0356 - acc: 0.9901 - val_loss: 0.0433 - val_acc: 0.9773\n",
      "Epoch 3/15\n",
      " - 0s - loss: 0.0237 - acc: 0.9920 - val_loss: 0.0218 - val_acc: 0.9924\n",
      "Epoch 4/15\n",
      " - 0s - loss: 0.0200 - acc: 0.9927 - val_loss: 0.0251 - val_acc: 0.9903\n",
      "Epoch 5/15\n",
      " - 0s - loss: 0.0141 - acc: 0.9960 - val_loss: 0.0128 - val_acc: 0.9946\n",
      "Epoch 6/15\n",
      " - 0s - loss: 0.0119 - acc: 0.9966 - val_loss: 0.0274 - val_acc: 0.9881\n",
      "Epoch 7/15\n",
      " - 0s - loss: 0.0107 - acc: 0.9968 - val_loss: 0.0146 - val_acc: 0.9946\n",
      "Epoch 8/15\n",
      " - 0s - loss: 0.0078 - acc: 0.9983 - val_loss: 0.0190 - val_acc: 0.9935\n",
      "Epoch 9/15\n",
      " - 0s - loss: 0.0069 - acc: 0.9983 - val_loss: 0.0251 - val_acc: 0.9914\n",
      "Epoch 10/15\n",
      " - 0s - loss: 0.0046 - acc: 0.9992 - val_loss: 0.0246 - val_acc: 0.9935\n",
      "Epoch 11/15\n",
      " - 0s - loss: 0.0047 - acc: 0.9990 - val_loss: 0.0325 - val_acc: 0.9892\n",
      "Epoch 12/15\n",
      " - 0s - loss: 0.0040 - acc: 0.9996 - val_loss: 0.0232 - val_acc: 0.9946\n",
      "Epoch 13/15\n",
      " - 0s - loss: 0.0032 - acc: 0.9992 - val_loss: 0.0226 - val_acc: 0.9935\n",
      "Epoch 14/15\n",
      " - 0s - loss: 0.0024 - acc: 0.9998 - val_loss: 0.0141 - val_acc: 0.9957\n",
      "Epoch 15/15\n",
      " - 0s - loss: 0.0015 - acc: 1.0000 - val_loss: 0.0210 - val_acc: 0.9957\n"
     ]
    },
    {
     "data": {
      "text/plain": [
       "<tensorflow.python.keras.callbacks.History at 0x1c3f5f0908>"
      ]
     },
     "execution_count": 76,
     "metadata": {
      "tags": []
     },
     "output_type": "execute_result"
    }
   ],
   "source": [
    "model = Sequential()\n",
    "model.add(Dense(50, activation='relu', input_dim=512))\n",
    "model.add(Dense(25, activation='relu'))\n",
    "model.add(Dense(10, activation='relu'))\n",
    "model.add(Dense(label_c, activation='softmax'))\n",
    "\n",
    "model.compile(optimizer='adam',\n",
    "              loss='categorical_crossentropy',\n",
    "              metrics=['accuracy'])\n",
    "\n",
    "model.fit(X,dummy_y, epochs=15, batch_size=64,validation_split=0.15,verbose=2,shuffle=True)"
   ]
  },
  {
   "cell_type": "markdown",
   "metadata": {
    "colab_type": "text",
    "id": "zbjtcGj9kyd5"
   },
   "source": [
    "### Saving Model"
   ]
  },
  {
   "cell_type": "code",
   "execution_count": 0,
   "metadata": {
    "colab": {},
    "colab_type": "code",
    "id": "MEy7ycDEkyd5"
   },
   "outputs": [],
   "source": [
    "model.save('my_model.h5')  # creates a HDF5 file 'my_model.h5'"
   ]
  },
  {
   "cell_type": "code",
   "execution_count": 0,
   "metadata": {
    "colab": {},
    "colab_type": "code",
    "id": "K1SI617Lsa-o"
   },
   "outputs": [],
   "source": []
  }
 ],
 "metadata": {
  "colab": {
   "collapsed_sections": [],
   "name": "Models.ipynb",
   "provenance": [],
   "version": "0.3.2"
  },
  "kernelspec": {
   "display_name": "Python 3",
   "language": "python",
   "name": "python3"
  },
  "language_info": {
   "codemirror_mode": {
    "name": "ipython",
    "version": 3
   },
   "file_extension": ".py",
   "mimetype": "text/x-python",
   "name": "python",
   "nbconvert_exporter": "python",
   "pygments_lexer": "ipython3",
   "version": "3.6.5"
  }
 },
 "nbformat": 4,
 "nbformat_minor": 1
}
