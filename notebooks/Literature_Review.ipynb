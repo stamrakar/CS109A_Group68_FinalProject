{
 "cells": [
  {
   "cell_type": "markdown",
   "metadata": {
    "colab_type": "text",
    "id": "DPj3fMCCsa8G"
   },
   "source": [
    "<a id ='TOC'></a>\n",
    "#### Table of Contents\n",
    "6. [Literature Review and Related Work](#Literature-Review-and-Related-Work) <br/>\n",
    "    6.1 [Bots in the Twittersphere](#Bots-in-the-Twittersphere) <br/>\n",
    "    6.2 [How Twitter Bots Help Fuel Political Feuds](#How-Twitter-Bots-Help-Fuel-Political-Feuds) <br/>\n",
    "    6.3 [The spread of low-credibility content by social bots](#The-spread-of-low-credibility-content-by-social-bots) <br/>\n",
    "    6.4 [Twitter Topic Modeling by Tweet Aggregation](#Twitter-Topic-Modeling-by-Tweet-Aggregation) <br/>\n",
    "    6.5 [Additional Sources](#Additional-Sources) <br/>"
   ]
  },
  {
   "cell_type": "markdown",
   "metadata": {
    "colab_type": "text",
    "id": "HAZS81cJHqAn"
   },
   "source": [
    "___"
   ]
  },
  {
   "cell_type": "markdown",
   "metadata": {
    "colab_type": "text",
    "id": "mvdrE_MMsa-j"
   },
   "source": [
    "<a id ='Literature-Review-and-Related-Work'></a>\n",
    "### 6 - Literature Review and Related Work\n",
    "\n",
    "Before starting modeling our data and exploring different techniques for identidying Twitter bots using tweets data from the Twitter developer API. We have reviewed several literature in this perspective. \n",
    "In general, many different classification models have been already developed adapted to this field, and below are a few highlights."
   ]
  },
  {
   "cell_type": "markdown",
   "metadata": {
    "colab_type": "text",
    "id": "341GT-5Hsa-k"
   },
   "source": [
    "[Back to TOC](#TOC) <br/>\n",
    "<a id ='Bots-in-the-Twittersphere'></a>\n",
    "#### 6.1 -Bots in the Twittersphere\n",
    "\n",
    "Stefan Wojcik, [\"Bots in the Twittersphere\"](http://www.pewinternet.org/2018/04/09/bots-in-the-twittersphere/)\n",
    "\n",
    "In this work, Botometer which is a tool that uses machine learning algorithm were used to identify the tweets account. The botometer gives a score between 0 and 1 for each tweeter account by analysing more than 1000 information about the tweeter account. Then by manually identifying around 300 tweets accounts, it was possible to assign the treshold that classify the tweet accounts as bot or non-bot."
   ]
  },
  {
   "cell_type": "markdown",
   "metadata": {
    "colab_type": "text",
    "id": "NaaD0GUAsa-k"
   },
   "source": [
    "[Back to TOC](#TOC) <br/>\n",
    "<a id ='How-Twitter-Bots-Help-Fuel-Political-Feuds'></a>\n",
    "#### 6.2 - How Twitter Bots Help Fuel Political Feuds\n",
    "\n",
    "Chris Baraniuk,[\"How Twitter Bots Help Fuel Political Feuds\"](https://www.scientificamerican.com/article/how-twitter-bots-help-fuel-political-feuds/)\n",
    "  \n",
    "\n",
    "In this study, we can see how bots can influence people in the political decision by having bots retweeting messages and trying to give a wrong percepective of the political situation. It seems these bots had influence multiple critical political decision such as U.K.’s “Brexit” referendum and Donald Trump’s 2016 campaign.\n",
    "The twitter CEO is working on stopping the bots abuse on Twitter, another test will be seen with the coming US elections. "
   ]
  },
  {
   "cell_type": "markdown",
   "metadata": {
    "colab_type": "text",
    "id": "d6J1ki8nsa-m"
   },
   "source": [
    "[Back to TOC](#TOC) <br/>\n",
    "<a id ='The-spread-of-low-credibility-content-by-social-bots'></a>\n",
    "#### 6.3 - The spread of low-credibility content by social bots\n",
    "\n",
    "Chengcheng Shao et al., [\"The spread of low-credibility content by social bots\"](https://arxiv.org/pdf/1707.07592.pdf)\n",
    "\n",
    "This paper studies how bots influence the the spreading of misinformation produced by sources that have low-credibility. The study found that bots utilitized specific strategies that proved to be effective in \"viral\" spreading of non credible content. Such strategies were to mention the names of individuals that are highly influential  in tweets that contained or linked to misinforming content. The spreading of the information by influential people creates the false illusion that the content is credible. \n",
    "\n"
   ]
  },
  {
   "cell_type": "markdown",
   "metadata": {
    "colab_type": "text",
    "id": "VlbU7HYgsa-o"
   },
   "source": [
    "[Back to TOC](#TOC) <br/>\n",
    "<a id ='Twitter-Topic-Modeling-by-Tweet-Aggregation'></a>\n",
    "#### 6.4 -Twitter Topic Modeling by Tweet Aggregation\n",
    "\n",
    "Asbjan Ottesen Steinskogetal et al., [\"Twitter Topic Modeling by Tweet Aggregation\"](http://www.aclweb.org/anthology/W17-0210)\n",
    "\n",
    "This paper explores the utilization of topic modeling to gain insight into trending topics on twitter. Due to the limitedness of tweet texts, various differerent methods of tweet aggregation have been studied for more  effective topic modeling. More specifically, Hashtag aggregation and author aggregation seems to make topic modeling more effective and results in better interpretability than standard topic models. "
   ]
  },
  {
   "cell_type": "markdown",
   "metadata": {
    "colab": {},
    "colab_type": "code",
    "id": "pl6IRKzmHfZJ"
   },
   "source": [
    "---"
   ]
  },
  {
   "cell_type": "markdown",
   "metadata": {
    "colab_type": "text",
    "id": "xuX72d08OYEw"
   },
   "source": [
    "#### Additional Resources\n",
    "\n",
    "[Back to TOC](#TOC) <br/>\n",
    "<a id ='Additional-Sources'></a>\n",
    "\n",
    "\n",
    "*   #### The tweepy Python library\n",
    "http://www.tweepy.org <br/>\n",
    "\n",
    "*   #### Twitter's Developer resources\n",
    "https://developer.twitter.com <br/>\n",
    "[Twitter's Tweet object](https://developer.twitter.com/en/docs/tweets/data-dictionary/overview/tweet-object) <br/>\n",
    "[Twitter's User object](https://developer.twitter.com/en/docs/tweets/data-dictionary/overview/user-object)\n",
    "\n",
    "*  ####  Botometer API\n",
    "API Documentation:\n",
    "https://github.com/IUNetSci/botometer-python <br/>\n",
    "Botometer API Overview:\n",
    "https://market.mashape.com/OSoMe/botometer\n",
    "\n",
    "\n",
    "\n"
   ]
  }
 ],
 "metadata": {
  "colab": {
   "collapsed_sections": [
    "341GT-5Hsa-k",
    "NaaD0GUAsa-k",
    "d6J1ki8nsa-m"
   ],
   "name": "Literature Review and Related Work.ipynb",
   "provenance": [],
   "version": "0.3.2"
  },
  "kernelspec": {
   "display_name": "Python 3",
   "language": "python",
   "name": "python3"
  },
  "language_info": {
   "codemirror_mode": {
    "name": "ipython",
    "version": 3
   },
   "file_extension": ".py",
   "mimetype": "text/x-python",
   "name": "python",
   "nbconvert_exporter": "python",
   "pygments_lexer": "ipython3",
   "version": "3.6.5"
  }
 },
 "nbformat": 4,
 "nbformat_minor": 1
}
